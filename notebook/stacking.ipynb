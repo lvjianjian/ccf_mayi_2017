{
 "cells": [
  {
   "cell_type": "code",
   "execution_count": 1,
   "metadata": {},
   "outputs": [],
   "source": [
    "from util import *\n",
    "from sklearn.preprocessing import LabelEncoder,LabelBinarizer\n",
    "from sklearn.ensemble import RandomForestClassifier, ExtraTreesClassifier\n",
    "from sklearn.svm import SVC\n",
    "from mlxtend.classifier import StackingCVClassifier\n",
    "from sklearn.multiclass import  OneVsOneClassifier,OneVsRestClassifier"
   ]
  },
  {
   "cell_type": "code",
   "execution_count": 2,
   "metadata": {},
   "outputs": [],
   "source": [
    "train_all = load_train()\n",
    "test_all = load_testA()\n",
    "preprocess_basic_time(train_all)\n",
    "preprocess_basic_wifi(train_all)\n",
    "shop_info = load_shop_info()"
   ]
  },
  {
   "cell_type": "code",
   "execution_count": 82,
   "metadata": {},
   "outputs": [],
   "source": [
    "mall_id = \"m_2270\"\n",
    "train = train_all[train_all.mall_id == mall_id]\n",
    "# label\n",
    "y = train.shop_id.values\n",
    "le = LabelEncoder().fit(y)\n",
    "y = le.transform(y)\n",
    "#split\n",
    "_train_index, _valid_index = get_last_one_week_index(train)\n",
    "valid = train.iloc[_valid_index]\n",
    "train = train.iloc[_train_index]\n",
    "#wifi info\n",
    "df, (train_index, train_use_wifi, train_matrix), (test_index, test_use_wifi, test_matrix) = get_wifi_cache2(mall_id)\n",
    "train_wifi_all_x = train_matrix[_train_index]\n",
    "valid_wifi_all_x = train_matrix[_valid_index]\n",
    "valid_y = y[_valid_index]\n",
    "train_y = y[_train_index]\n",
    "train_lonlats = train[[\"longitude\",\"latitude\"]].values\n",
    "valid_lonlats = valid[[\"longitude\",\"latitude\"]].values\n",
    "train_wh = train[[\"weekday\",\"hour\"]].values\n",
    "valid_wh = valid[[\"weekday\",\"hour\"]].values\n",
    "train_w = train[[\"weekday\"]].values\n",
    "valid_w = valid[[\"weekday\"]].values\n",
    "train_h = train[[\"hour\"]].values\n",
    "valid_h = valid[[\"hour\"]].values"
   ]
  },
  {
   "cell_type": "code",
   "execution_count": 80,
   "metadata": {},
   "outputs": [
    {
     "data": {
      "text/plain": [
       "0.8782736997417927"
      ]
     },
     "execution_count": 80,
     "metadata": {},
     "output_type": "execute_result"
    }
   ],
   "source": [
    "# rf all_wifi_x\n",
    "rf = RandomForestClassifier(n_estimators=500,n_jobs=-1,random_state=2017)\n",
    "_train_x1 = np.concatenate([train_wifi_all_x,train_lonlats,train_h],axis=1)\n",
    "_valid_x1 = np.concatenate([valid_wifi_all_x,valid_lonlats,valid_h],axis=1)\n",
    "rf.fit(train_wifi_all_x,train_y)\n",
    "acc(rf.predict(valid_wifi_all_x),valid_y)"
   ]
  },
  {
   "cell_type": "code",
   "execution_count": 38,
   "metadata": {},
   "outputs": [
    {
     "data": {
      "text/plain": [
       "0.8829174664107485"
      ]
     },
     "execution_count": 38,
     "metadata": {},
     "output_type": "execute_result"
    }
   ],
   "source": [
    "# rf2 strong wifi\n",
    "indexs = choose_string_wifi_index(-115,6,train_wifi_all_x)\n",
    "rf2 = RandomForestClassifier(n_estimators=500,n_jobs=-1,random_state=2017)\n",
    "rf2.fit(train_wifi_all_x[:,indexs],train_y)\n",
    "acc(rf2.predict(valid_wifi_all_x[:,indexs]),valid_y)"
   ]
  },
  {
   "cell_type": "code",
   "execution_count": 50,
   "metadata": {},
   "outputs": [
    {
     "data": {
      "text/plain": [
       "0.8794625719769674"
      ]
     },
     "execution_count": 50,
     "metadata": {},
     "output_type": "execute_result"
    }
   ],
   "source": [
    "# rf + rf2\n",
    "acc(valid_y,\n",
    "    rf2.classes_.take(np.argmax(rf.predict_proba(valid_wifi_all_x) + \n",
    "                                rf2.predict_proba(valid_wifi_all_x[:,indexs]),\n",
    "                                axis=1)))"
   ]
  },
  {
   "cell_type": "code",
   "execution_count": 88,
   "metadata": {},
   "outputs": [
    {
     "data": {
      "text/plain": [
       "0.9494097807757167"
      ]
     },
     "execution_count": 88,
     "metadata": {},
     "output_type": "execute_result"
    }
   ],
   "source": [
    "# rf3 string wifi + lonlat\n",
    "indexs = choose_strong_wifi_index(-90,6,train_wifi_all_x)\n",
    "_train_x3 = np.concatenate([train_wifi_all_x[:,indexs],train_lonlats,train_wh],axis=1)\n",
    "_valid_x3 = np.concatenate([valid_wifi_all_x[:,indexs],valid_lonlats,valid_wh],axis=1)\n",
    "rf3 = RandomForestClassifier(n_estimators=500,n_jobs=-1,class_weight=\"balanced\")\n",
    "rf3.fit(_train_x3,train_y)\n",
    "acc(rf3.predict(_valid_x3),valid_y)"
   ]
  },
  {
   "cell_type": "code",
   "execution_count": 60,
   "metadata": {},
   "outputs": [
    {
     "data": {
      "text/plain": [
       "0.8879078694817658"
      ]
     },
     "execution_count": 60,
     "metadata": {},
     "output_type": "execute_result"
    }
   ],
   "source": [
    "# rf2 + rf3\n",
    "acc(valid_y,\n",
    "    rf3.classes_.take(np.argmax(rf2.predict_proba(valid_wifi_all_x[:,indexs]) + \n",
    "                                rf3.predict_proba(_valid_x3),\n",
    "                                axis=1)))"
   ]
  },
  {
   "cell_type": "code",
   "execution_count": 64,
   "metadata": {},
   "outputs": [
    {
     "data": {
      "text/plain": [
       "0.8871401151631478"
      ]
     },
     "execution_count": 64,
     "metadata": {},
     "output_type": "execute_result"
    }
   ],
   "source": [
    "# rf4 strong wifi lonlat hour\n",
    "indexs = choose_string_wifi_index(-115,6,train_wifi_all_x)\n",
    "_train_x4 = np.concatenate([train_wifi_all_x[:,indexs],train_lonlats,train_h],axis=1)\n",
    "_valid_x4 = np.concatenate([valid_wifi_all_x[:,indexs],valid_lonlats,valid_h],axis=1)\n",
    "rf4 = RandomForestClassifier(n_estimators=500,n_jobs=-1,random_state=2017)\n",
    "rf4.fit(_train_x4,train_y)\n",
    "acc(rf4.predict(_valid_x4),valid_y)"
   ]
  },
  {
   "cell_type": "code",
   "execution_count": 66,
   "metadata": {},
   "outputs": [
    {
     "data": {
      "text/plain": [
       "0.8871401151631478"
      ]
     },
     "execution_count": 66,
     "metadata": {},
     "output_type": "execute_result"
    }
   ],
   "source": [
    "# rf2 + rf3 + rf4\n",
    "acc(valid_y,\n",
    "    rf3.classes_.take(np.argmax(rf2.predict_proba(valid_wifi_all_x[:,indexs]) + \n",
    "                                rf3.predict_proba(_valid_x3) +\n",
    "                                rf4.predict_proba(_valid_x4),\n",
    "                                axis=1)))"
   ]
  },
  {
   "cell_type": "code",
   "execution_count": 35,
   "metadata": {},
   "outputs": [],
   "source": [
    "def expansion(trainx, trainy, cv=2):\n",
    "    # 对样本少的进行复制扩充\n",
    "    bin = np.bincount(trainy)\n",
    "    labels = np.unique(trainy)\n",
    "    l = np.asarray(range(np.max(labels) + 1))[bin < cv]\n",
    "    l = np.intersect1d(l, labels)\n",
    "    for _l in l:\n",
    "        n = (trainy == _l).sum()\n",
    "        n = int(np.ceil(float(cv) / n - 1))\n",
    "        trainx = np.concatenate([trainx, np.tile(trainx[trainy == _l], (n, 1))], axis=0)\n",
    "        trainy = np.concatenate([trainy, np.tile(trainy[trainy == _l], (n,))], axis=0)\n",
    "    return trainx, trainy"
   ]
  },
  {
   "cell_type": "code",
   "execution_count": 56,
   "metadata": {},
   "outputs": [
    {
     "data": {
      "text/plain": [
       "0.8905950095969289"
      ]
     },
     "execution_count": 56,
     "metadata": {},
     "output_type": "execute_result"
    }
   ],
   "source": [
    "# ovr \n",
    "ovr = OneVsRestClassifier(estimator=RandomForestClassifier(n_estimators=188,n_jobs=-1,class_weight=\"balanced\"),n_jobs=-1)\n",
    "ovr.fit(_train_x3, train_y)\n",
    "acc(ovr.predict(_valid_x3),valid_y)"
   ]
  },
  {
   "cell_type": "code",
   "execution_count": 71,
   "metadata": {},
   "outputs": [
    {
     "data": {
      "text/plain": [
       "0.8840690978886756"
      ]
     },
     "execution_count": 71,
     "metadata": {},
     "output_type": "execute_result"
    }
   ],
   "source": [
    "# ovo\n",
    "ovo = OneVsOneClassifier(estimator=RandomForestClassifier(n_estimators=50,n_jobs=-1),n_jobs=-1)\n",
    "ovo.fit(_train_x3, train_y)\n",
    "acc(ovo.predict(_valid_x3),valid_y)"
   ]
  },
  {
   "cell_type": "code",
   "execution_count": 84,
   "metadata": {},
   "outputs": [
    {
     "name": "stdout",
     "output_type": "stream",
     "text": [
      "Fitting 2 classifiers...\n",
      "Fitting classifier1: randomforestclassifier (1/2)\n",
      "Training and fitting fold 1 of 3...\n",
      "Training and fitting fold 2 of 3...\n",
      "Training and fitting fold 3 of 3...\n",
      "Fitting classifier2: onevsrestclassifier (2/2)\n",
      "Training and fitting fold 1 of 3...\n",
      "Training and fitting fold 2 of 3...\n",
      "Training and fitting fold 3 of 3...\n"
     ]
    },
    {
     "data": {
      "text/plain": [
       "0.9498313659359191"
      ]
     },
     "execution_count": 84,
     "metadata": {},
     "output_type": "execute_result"
    }
   ],
   "source": [
    "#stack\n",
    "cv = 3\n",
    "_x,_y = expansion(_train_x3,train_y,cv)\n",
    "stack = StackingCVClassifier([RandomForestClassifier(n_estimators=500,n_jobs=-1,class_weight=\"balanced\"),\n",
    "                              OneVsRestClassifier(estimator=RandomForestClassifier(n_estimators=188,n_jobs=-1, class_weight=\"balanced\"),n_jobs=-1),\n",
    "                              ],\n",
    "                             RandomForestClassifier(n_estimators=300,n_jobs=-1,class_weight=\"balanced\"),\n",
    "                             use_probas=True,\n",
    "                             verbose=1,\n",
    "                             cv = cv) \n",
    "stack.fit(_x,_y)\n",
    "p = stack.predict(_valid_x3)\n",
    "acc(p, valid_y)"
   ]
  }
 ],
 "metadata": {
  "kernelspec": {
   "display_name": "Python 2",
   "language": "python",
   "name": "python2"
  },
  "language_info": {
   "codemirror_mode": {
    "name": "ipython",
    "version": 2
   },
   "file_extension": ".py",
   "mimetype": "text/x-python",
   "name": "python",
   "nbconvert_exporter": "python",
   "pygments_lexer": "ipython2",
   "version": "2.7.5"
  }
 },
 "nbformat": 4,
 "nbformat_minor": 2
}
