{
 "cells": [
  {
   "cell_type": "code",
   "execution_count": 1,
   "metadata": {},
   "outputs": [],
   "source": [
    "from util import *\n",
    "import matplotlib.pyplot as plt\n",
    "import seaborn as ses"
   ]
  },
  {
   "cell_type": "code",
   "execution_count": 11,
   "metadata": {},
   "outputs": [],
   "source": [
    "mall_id = \"m_7168\"\n",
    "train = load_train()\n",
    "train = train[train.mall_id==mall_id]\n",
    "test = load_testA()\n",
    "test = test[test.mall_id == mall_id]\n",
    "shop = load_shop_info()\n",
    "shop = shop[shop.mall_id == mall_id]"
   ]
  },
  {
   "cell_type": "code",
   "execution_count": 10,
   "metadata": {},
   "outputs": [
    {
     "name": "stdout",
     "output_type": "stream",
     "text": [
      "train user shape (26355,) unique shape (15777,)\n",
      "test user shape (11737,) unique shape (7721,)\n",
      "train union test user unique shape (21895,)\n",
      "train intersect test user unique shape (1603,)\n"
     ]
    }
   ],
   "source": [
    "print \"train\", \"user shape\", train.user_id.shape, \"unique shape\", train.user_id.unique().shape\n",
    "print \"test\", \"user shape\", test.user_id.shape, \"unique shape\", test.user_id.unique().shape\n",
    "print \"train union test user unique shape\", np.union1d(train.user_id.unique(),test.user_id.unique()).shape\n",
    "print \"train intersect test user unique shape\", np.intersect1d(train.user_id.unique(),test.user_id.unique()).shape"
   ]
  },
  {
   "cell_type": "code",
   "execution_count": 25,
   "metadata": {},
   "outputs": [],
   "source": [
    "user_count = train.groupby(\"user_id\").count()[\"shop_id\"].reset_index().sort_values(by=\"shop_id\",ascending=False)\n",
    "part_user_10 = user_count[user_count.shop_id > 10]"
   ]
  },
  {
   "cell_type": "code",
   "execution_count": 27,
   "metadata": {},
   "outputs": [
    {
     "data": {
      "text/html": [
       "<div>\n",
       "<table border=\"1\" class=\"dataframe\">\n",
       "  <thead>\n",
       "    <tr style=\"text-align: right;\">\n",
       "      <th></th>\n",
       "      <th>user_id</th>\n",
       "      <th>shop_id</th>\n",
       "    </tr>\n",
       "  </thead>\n",
       "  <tbody>\n",
       "    <tr>\n",
       "      <th>5006</th>\n",
       "      <td>u_26059542</td>\n",
       "      <td>55</td>\n",
       "    </tr>\n",
       "    <tr>\n",
       "      <th>6540</th>\n",
       "      <td>u_32130913</td>\n",
       "      <td>36</td>\n",
       "    </tr>\n",
       "    <tr>\n",
       "      <th>13508</th>\n",
       "      <td>u_57772653</td>\n",
       "      <td>34</td>\n",
       "    </tr>\n",
       "    <tr>\n",
       "      <th>6273</th>\n",
       "      <td>u_30769431</td>\n",
       "      <td>23</td>\n",
       "    </tr>\n",
       "    <tr>\n",
       "      <th>8278</th>\n",
       "      <td>u_38073414</td>\n",
       "      <td>21</td>\n",
       "    </tr>\n",
       "    <tr>\n",
       "      <th>13707</th>\n",
       "      <td>u_58732988</td>\n",
       "      <td>19</td>\n",
       "    </tr>\n",
       "    <tr>\n",
       "      <th>6566</th>\n",
       "      <td>u_32316126</td>\n",
       "      <td>19</td>\n",
       "    </tr>\n",
       "    <tr>\n",
       "      <th>9833</th>\n",
       "      <td>u_44071612</td>\n",
       "      <td>17</td>\n",
       "    </tr>\n",
       "    <tr>\n",
       "      <th>1241</th>\n",
       "      <td>u_13145620</td>\n",
       "      <td>17</td>\n",
       "    </tr>\n",
       "    <tr>\n",
       "      <th>10599</th>\n",
       "      <td>u_46189169</td>\n",
       "      <td>17</td>\n",
       "    </tr>\n",
       "  </tbody>\n",
       "</table>\n",
       "</div>"
      ],
      "text/plain": [
       "          user_id  shop_id\n",
       "5006   u_26059542       55\n",
       "6540   u_32130913       36\n",
       "13508  u_57772653       34\n",
       "6273   u_30769431       23\n",
       "8278   u_38073414       21\n",
       "13707  u_58732988       19\n",
       "6566   u_32316126       19\n",
       "9833   u_44071612       17\n",
       "1241   u_13145620       17\n",
       "10599  u_46189169       17"
      ]
     },
     "execution_count": 27,
     "metadata": {},
     "output_type": "execute_result"
    }
   ],
   "source": [
    "part_user_10[:10]"
   ]
  },
  {
   "cell_type": "code",
   "execution_count": 97,
   "metadata": {
    "scrolled": true
   },
   "outputs": [
    {
     "name": "stdout",
     "output_type": "stream",
     "text": [
      "0.0545454545455\n",
      "106.0\n",
      "\n",
      "0.0555555555556\n",
      "495.0\n",
      "\n",
      "0.0588235294118\n",
      "55.0\n",
      "\n",
      "0.0869565217391\n",
      "111.0\n",
      "\n",
      "0.0952380952381\n",
      "192.0\n",
      "\n",
      "0.105263157895\n",
      "174.0\n",
      "\n",
      "0.105263157895\n",
      "116.0\n",
      "\n",
      "0.117647058824\n",
      "288.0\n",
      "\n",
      "0.117647058824\n",
      "240.0\n",
      "\n",
      "0.117647058824\n",
      "192.0\n",
      "\n"
     ]
    },
    {
     "name": "stderr",
     "output_type": "stream",
     "text": [
      "/usr/lib/python2.7/site-packages/ipykernel_launcher.py:4: VisibleDeprecationWarning: boolean index did not match indexed array along dimension 0; dimension is 26355 but corresponding boolean dimension is 55\n",
      "  after removing the cwd from sys.path.\n",
      "/usr/lib/python2.7/site-packages/ipykernel_launcher.py:4: VisibleDeprecationWarning: boolean index did not match indexed array along dimension 0; dimension is 26355 but corresponding boolean dimension is 36\n",
      "  after removing the cwd from sys.path.\n",
      "/usr/lib/python2.7/site-packages/ipykernel_launcher.py:4: VisibleDeprecationWarning: boolean index did not match indexed array along dimension 0; dimension is 26355 but corresponding boolean dimension is 34\n",
      "  after removing the cwd from sys.path.\n",
      "/usr/lib/python2.7/site-packages/ipykernel_launcher.py:4: VisibleDeprecationWarning: boolean index did not match indexed array along dimension 0; dimension is 26355 but corresponding boolean dimension is 23\n",
      "  after removing the cwd from sys.path.\n",
      "/usr/lib/python2.7/site-packages/ipykernel_launcher.py:4: VisibleDeprecationWarning: boolean index did not match indexed array along dimension 0; dimension is 26355 but corresponding boolean dimension is 21\n",
      "  after removing the cwd from sys.path.\n",
      "/usr/lib/python2.7/site-packages/ipykernel_launcher.py:4: VisibleDeprecationWarning: boolean index did not match indexed array along dimension 0; dimension is 26355 but corresponding boolean dimension is 19\n",
      "  after removing the cwd from sys.path.\n",
      "/usr/lib/python2.7/site-packages/ipykernel_launcher.py:4: VisibleDeprecationWarning: boolean index did not match indexed array along dimension 0; dimension is 26355 but corresponding boolean dimension is 17\n",
      "  after removing the cwd from sys.path.\n"
     ]
    }
   ],
   "source": [
    "for i in range(10):\n",
    "    u = train[train.user_id ==  part_user_10.user_id.values[i]]\n",
    "    u_test = test[test.user_id == part_user_10.user_id.values[i]]\n",
    "    u_matrix = train_matrix[np.in1d(u.index,train_index)] \n",
    "    print (u_matrix > -60).sum(0).max() / float(u_matrix.shape[0])\n",
    "    print (u_matrix > -60).sum().max() * float(u.shop_id.unique().shape[0])\n",
    "    print "
   ]
  },
  {
   "cell_type": "code",
   "execution_count": 42,
   "metadata": {},
   "outputs": [
    {
     "data": {
      "image/png": "[encoded data removed]",
      "text/plain": [
       "<matplotlib.figure.Figure at 0x274cc590>"
      ]
     },
     "metadata": {},
     "output_type": "display_data"
    },
    {
     "data": {
      "image/png": "[encoded data removed]",
      "text/plain": [
       "<matplotlib.figure.Figure at 0x22e78750>"
      ]
     },
     "metadata": {},
     "output_type": "display_data"
    }
   ],
   "source": [
    "preprocess_basic_time(u)\n",
    "ses.countplot(x=\"weekday\",data=u)\n",
    "plt.show()\n",
    "ses.countplot(u.dt.dt.week)\n",
    "plt.show()"
   ]
  },
  {
   "cell_type": "code",
   "execution_count": 47,
   "metadata": {},
   "outputs": [
    {
     "data": {
      "image/png": "[encoded data removed]",
      "text/plain": [
       "<matplotlib.figure.Figure at 0x22ec7910>"
      ]
     },
     "metadata": {},
     "output_type": "display_data"
    }
   ],
   "source": [
    "preprocess_basic_time(u_test)\n",
    "ses.countplot(u_test.dt.dt.week)\n",
    "plt.show()"
   ]
  },
  {
   "cell_type": "code",
   "execution_count": 57,
   "metadata": {},
   "outputs": [
    {
     "name": "stdout",
     "output_type": "stream",
     "text": [
      "u_26059542 ['s_460419']\n",
      "u_32130913 ['s_295706' 's_293805' 's_2310712' 's_293785' 's_45040' 's_294960'\n",
      " 's_293704' 's_293082' 's_293031']\n",
      "u_57772653 ['s_460419']\n",
      "u_30769431 ['s_294960' 's_460419' 's_293805']\n",
      "u_38073414 ['s_2303129' 's_2310712' 's_295706' 's_293704' 's_15236' 's_293082']\n",
      "u_58732988 ['s_295610' 's_293031' 's_294960' 's_45040' 's_293785' 's_2310712']\n",
      "u_32316126 ['s_62317' 's_301215' 's_4386' 's_448230']\n",
      "u_44071612 ['s_43369' 's_3749811' 's_3741710' 's_39875' 's_4386' 's_20731' 's_381787'\n",
      " 's_63306' 's_3846218' 's_41948' 's_135671' 's_62317']\n",
      "u_13145620 ['s_293704' 's_8426' 's_294228' 's_294960' 's_2310712' 's_293785'\n",
      " 's_2303143' 's_295706' 's_293805' 's_97734']\n",
      "u_46189169 ['s_2303129' 's_2783591' 's_293805' 's_2956027' 's_385716' 's_293704'\n",
      " 's_293082' 's_293031']\n",
      "u_28145494 ['s_295706' 's_301215' 's_2783591' 's_381583' 's_293805' 's_2303143'\n",
      " 's_2310712' 's_2303129' 's_293785' 's_788134' 's_385716' 's_293704']\n",
      "u_36521134 ['s_460419' 's_381583']\n",
      "u_57038308 ['s_293805' 's_295706' 's_301215' 's_454017' 's_381725' 's_293082']\n",
      "u_16124687 ['s_62317' 's_293610']\n",
      "u_55657809 ['s_454017' 's_3749811' 's_2959694' 's_3587253' 's_8426' 's_788134'\n",
      " 's_41948']\n",
      "u_12020295 ['s_2303129' 's_294960' 's_4386' 's_45040' 's_294228' 's_2783591'\n",
      " 's_293031' 's_293082' 's_295610']\n",
      "u_21257069 ['s_3886681' 's_2783591' 's_293805' 's_295706' 's_293785' 's_2310712'\n",
      " 's_381725' 's_293082']\n",
      "u_24307317 ['s_294294' 's_293805' 's_77146' 's_97734' 's_293785' 's_295610' 's_555648'\n",
      " 's_385716' 's_293082']\n",
      "u_2899749 ['s_293805' 's_293785' 's_2303143' 's_2310712' 's_295308']\n",
      "u_47852203 ['s_293704' 's_3033946' 's_381583']\n",
      "u_22860895 ['s_460419']\n",
      "u_53592852 ['s_294294' 's_295706' 's_46295' 's_295308']\n",
      "u_38958419 ['s_62317']\n",
      "u_11253311 ['s_294294' 's_390156']\n",
      "u_14265060 ['s_59928' 's_1224414' 's_381787' 's_3637']\n",
      "u_5448983 ['s_15236' 's_39875' 's_42761' 's_3886681' 's_1224414' 's_381583']\n",
      "u_35971962 ['s_381583' 's_97734' 's_39875' 's_295610']\n",
      "u_917102 ['s_293805' 's_295706' 's_2783591' 's_293785' 's_293704' 's_293031'\n",
      " 's_293082' 's_165228']\n",
      "u_49314809 ['s_460419' 's_45040']\n",
      "u_243278 ['s_295706' 's_293704' 's_295610' 's_293082']\n",
      "u_26481816 ['s_295706' 's_294960' 's_2303143' 's_294228' 's_293031' 's_293704']\n",
      "u_47399372 ['s_41948' 's_59928' 's_4386' 's_381583' 's_301215' 's_7452']\n",
      "u_3839945 ['s_295308' 's_293082' 's_381725' 's_294960' 's_456529' 's_2310712'\n",
      " 's_3886681']\n",
      "u_9919888 ['s_293805' 's_295706' 's_45040' 's_295610' 's_293082' 's_295308' 's_41948']\n",
      "u_8131060 ['s_460419']\n",
      "u_2206854 ['s_293704' 's_294228' 's_293785' 's_7452' 's_460419']\n",
      "u_13338433 ['s_2310712' 's_2303143' 's_97734' 's_293805' 's_293082']\n",
      "u_45133736 ['s_2783591' 's_293805' 's_301215' 's_294960' 's_2303129' 's_62317']\n"
     ]
    }
   ],
   "source": [
    "for _u in part_user_10.user_id.values:\n",
    "    print _u, train[train.user_id == _u].shop_id.unique()"
   ]
  },
  {
   "cell_type": "code",
   "execution_count": 59,
   "metadata": {},
   "outputs": [
    {
     "name": "stdout",
     "output_type": "stream",
     "text": [
      "       shop_id category_id  shop_longitude  shop_latitude  price mall_id\n",
      "2905  s_460419        c_27      116.862611      40.326208     46  m_7168\n",
      "     shop_id category_id  shop_longitude  shop_latitude  price mall_id\n",
      "418  s_45040        c_29      116.863733      40.326627     50  m_7168\n"
     ]
    }
   ],
   "source": [
    "print shop[shop.shop_id==\"s_460419\"]\n",
    "print shop[shop.shop_id==\"s_45040\"]\n"
   ]
  },
  {
   "cell_type": "code",
   "execution_count": 4,
   "metadata": {},
   "outputs": [],
   "source": [
    "df,train_cache, test_cache = get_wifi_cache(mall_id)\n",
    "train_index = train_cache[0]\n",
    "train_use_wifi = train_cache[1]\n",
    "train_matrix = train_cache[2]\n",
    "test_index = test_cache[0]\n",
    "test_use_wifi = test_cache[1]\n",
    "test_matrix = test_cache[2]"
   ]
  },
  {
   "cell_type": "code",
   "execution_count": 27,
   "metadata": {},
   "outputs": [
    {
     "data": {
      "text/plain": [
       "<matplotlib.figure.Figure at 0x166be810>"
      ]
     },
     "metadata": {},
     "output_type": "display_data"
    },
    {
     "data": {
      "image/png": "[encoded data removed]",
      "text/plain": [
       "<matplotlib.figure.Figure at 0x166be910>"
      ]
     },
     "metadata": {},
     "output_type": "display_data"
    }
   ],
   "source": [
    "f,ax = plt.subplots(1,1,figsize=(30,20))\n",
    "ses.countplot(x=\"category_id\", data=shop,ax=ax)\n",
    "plt.show()"
   ]
  },
  {
   "cell_type": "code",
   "execution_count": 28,
   "metadata": {},
   "outputs": [
    {
     "data": {
      "image/png": "[encoded data removed]",
      "text/plain": [
       "<matplotlib.figure.Figure at 0x89d5fd0>"
      ]
     },
     "metadata": {},
     "output_type": "display_data"
    }
   ],
   "source": [
    "f,ax = plt.subplots(1,1,figsize=(30,20))\n",
    "ses.countplot(x=\"category_id\", data=train,ax=ax)\n",
    "plt.show()"
   ]
  },
  {
   "cell_type": "code",
   "execution_count": 19,
   "metadata": {},
   "outputs": [
    {
     "data": {
      "image/png": "[encoded data removed]",
      "text/plain": [
       "<matplotlib.figure.Figure at 0x1663a210>"
      ]
     },
     "metadata": {},
     "output_type": "display_data"
    }
   ],
   "source": [
    "ses.countplot(train.dt.dt.hour)\n",
    "plt.show()"
   ]
  },
  {
   "cell_type": "code",
   "execution_count": 57,
   "metadata": {},
   "outputs": [],
   "source": [
    "little = train[(train.dt.dt.hour < 10) | (train.dt.dt.hour >21 )]\n",
    "zhongwu = train[(train.dt.dt.hour >=10) & (train.dt.dt.hour <=13 )]\n",
    "xiawu  = train[(train.dt.dt.hour >=14) & (train.dt.dt.hour <=17 )]\n",
    "wanshang = train[(train.dt.dt.hour >=18) & (train.dt.dt.hour <=21 )]"
   ]
  },
  {
   "cell_type": "code",
   "execution_count": 62,
   "metadata": {},
   "outputs": [
    {
     "data": {
      "image/png": "[encoded data removed]",
      "text/plain": [
       "<matplotlib.figure.Figure at 0x20649610>"
      ]
     },
     "metadata": {},
     "output_type": "display_data"
    },
    {
     "data": {
      "image/png": "[encoded data removed]",
      "text/plain": [
       "<matplotlib.figure.Figure at 0x63882d0>"
      ]
     },
     "metadata": {},
     "output_type": "display_data"
    },
    {
     "data": {
      "image/png": "[encoded data removed]",
      "text/plain": [
       "<matplotlib.figure.Figure at 0x8970e90>"
      ]
     },
     "metadata": {},
     "output_type": "display_data"
    },
    {
     "data": {
      "image/png": "[encoded data removed]",
      "text/plain": [
       "<matplotlib.figure.Figure at 0x22f5d110>"
      ]
     },
     "metadata": {},
     "output_type": "display_data"
    }
   ],
   "source": [
    "f,ax = plt.subplots(1,1,figsize=(30,20))\n",
    "ses.countplot(x=\"category_id\", data=little,order=shop.category_id.unique(),ax=ax)\n",
    "plt.show()\n",
    "f,ax = plt.subplots(1,1,figsize=(30,20))\n",
    "ses.countplot(x=\"category_id\", data=zhongwu,ax=ax,order=shop.category_id.unique())\n",
    "plt.show()\n",
    "f,ax = plt.subplots(1,1,figsize=(30,20))\n",
    "ses.countplot(x=\"category_id\", data=xiawu,ax=ax,order=shop.category_id.unique())\n",
    "plt.show()\n",
    "f,ax = plt.subplots(1,1,figsize=(30,20))\n",
    "ses.countplot(x=\"category_id\", data=wanshang,ax=ax,order=shop.category_id.unique())\n",
    "plt.show()"
   ]
  },
  {
   "cell_type": "code",
   "execution_count": 32,
   "metadata": {},
   "outputs": [
    {
     "name": "stdout",
     "output_type": "stream",
     "text": [
      "(48, 15)\n",
      "(23,)\n",
      "(36,)\n"
     ]
    }
   ],
   "source": [
    "print little.shape\n",
    "print little.shop_id.unique().shape\n",
    "print little.user_id.unique().shape"
   ]
  },
  {
   "cell_type": "code",
   "execution_count": 34,
   "metadata": {},
   "outputs": [
    {
     "data": {
      "text/html": [
       "<div>\n",
       "<table border=\"1\" class=\"dataframe\">\n",
       "  <thead>\n",
       "    <tr style=\"text-align: right;\">\n",
       "      <th></th>\n",
       "      <th>user_id</th>\n",
       "      <th>shop_id</th>\n",
       "    </tr>\n",
       "  </thead>\n",
       "  <tbody>\n",
       "    <tr>\n",
       "      <th>0</th>\n",
       "      <td>u_11191746</td>\n",
       "      <td>1</td>\n",
       "    </tr>\n",
       "    <tr>\n",
       "      <th>1</th>\n",
       "      <td>u_11877791</td>\n",
       "      <td>1</td>\n",
       "    </tr>\n",
       "    <tr>\n",
       "      <th>2</th>\n",
       "      <td>u_12201776</td>\n",
       "      <td>1</td>\n",
       "    </tr>\n",
       "    <tr>\n",
       "      <th>3</th>\n",
       "      <td>u_13094691</td>\n",
       "      <td>1</td>\n",
       "    </tr>\n",
       "    <tr>\n",
       "      <th>4</th>\n",
       "      <td>u_14666401</td>\n",
       "      <td>2</td>\n",
       "    </tr>\n",
       "    <tr>\n",
       "      <th>5</th>\n",
       "      <td>u_14925812</td>\n",
       "      <td>1</td>\n",
       "    </tr>\n",
       "    <tr>\n",
       "      <th>6</th>\n",
       "      <td>u_23595814</td>\n",
       "      <td>1</td>\n",
       "    </tr>\n",
       "    <tr>\n",
       "      <th>7</th>\n",
       "      <td>u_24096210</td>\n",
       "      <td>1</td>\n",
       "    </tr>\n",
       "    <tr>\n",
       "      <th>8</th>\n",
       "      <td>u_24276751</td>\n",
       "      <td>2</td>\n",
       "    </tr>\n",
       "    <tr>\n",
       "      <th>9</th>\n",
       "      <td>u_2475751</td>\n",
       "      <td>1</td>\n",
       "    </tr>\n",
       "    <tr>\n",
       "      <th>10</th>\n",
       "      <td>u_25184611</td>\n",
       "      <td>1</td>\n",
       "    </tr>\n",
       "    <tr>\n",
       "      <th>11</th>\n",
       "      <td>u_25933165</td>\n",
       "      <td>1</td>\n",
       "    </tr>\n",
       "    <tr>\n",
       "      <th>12</th>\n",
       "      <td>u_262453</td>\n",
       "      <td>1</td>\n",
       "    </tr>\n",
       "    <tr>\n",
       "      <th>13</th>\n",
       "      <td>u_27407638</td>\n",
       "      <td>1</td>\n",
       "    </tr>\n",
       "    <tr>\n",
       "      <th>14</th>\n",
       "      <td>u_2925237</td>\n",
       "      <td>1</td>\n",
       "    </tr>\n",
       "    <tr>\n",
       "      <th>15</th>\n",
       "      <td>u_31018238</td>\n",
       "      <td>1</td>\n",
       "    </tr>\n",
       "    <tr>\n",
       "      <th>16</th>\n",
       "      <td>u_3272480</td>\n",
       "      <td>1</td>\n",
       "    </tr>\n",
       "    <tr>\n",
       "      <th>17</th>\n",
       "      <td>u_33362714</td>\n",
       "      <td>1</td>\n",
       "    </tr>\n",
       "    <tr>\n",
       "      <th>18</th>\n",
       "      <td>u_34978877</td>\n",
       "      <td>2</td>\n",
       "    </tr>\n",
       "    <tr>\n",
       "      <th>19</th>\n",
       "      <td>u_36295406</td>\n",
       "      <td>2</td>\n",
       "    </tr>\n",
       "    <tr>\n",
       "      <th>20</th>\n",
       "      <td>u_36712028</td>\n",
       "      <td>1</td>\n",
       "    </tr>\n",
       "    <tr>\n",
       "      <th>21</th>\n",
       "      <td>u_3868278</td>\n",
       "      <td>1</td>\n",
       "    </tr>\n",
       "    <tr>\n",
       "      <th>22</th>\n",
       "      <td>u_43178301</td>\n",
       "      <td>2</td>\n",
       "    </tr>\n",
       "    <tr>\n",
       "      <th>23</th>\n",
       "      <td>u_45107862</td>\n",
       "      <td>1</td>\n",
       "    </tr>\n",
       "    <tr>\n",
       "      <th>24</th>\n",
       "      <td>u_45257803</td>\n",
       "      <td>2</td>\n",
       "    </tr>\n",
       "    <tr>\n",
       "      <th>25</th>\n",
       "      <td>u_47368999</td>\n",
       "      <td>1</td>\n",
       "    </tr>\n",
       "    <tr>\n",
       "      <th>26</th>\n",
       "      <td>u_48952936</td>\n",
       "      <td>2</td>\n",
       "    </tr>\n",
       "    <tr>\n",
       "      <th>27</th>\n",
       "      <td>u_50690219</td>\n",
       "      <td>1</td>\n",
       "    </tr>\n",
       "    <tr>\n",
       "      <th>28</th>\n",
       "      <td>u_56711618</td>\n",
       "      <td>2</td>\n",
       "    </tr>\n",
       "    <tr>\n",
       "      <th>29</th>\n",
       "      <td>u_59329552</td>\n",
       "      <td>2</td>\n",
       "    </tr>\n",
       "    <tr>\n",
       "      <th>30</th>\n",
       "      <td>u_59949226</td>\n",
       "      <td>1</td>\n",
       "    </tr>\n",
       "    <tr>\n",
       "      <th>31</th>\n",
       "      <td>u_60525268</td>\n",
       "      <td>1</td>\n",
       "    </tr>\n",
       "    <tr>\n",
       "      <th>32</th>\n",
       "      <td>u_641642</td>\n",
       "      <td>2</td>\n",
       "    </tr>\n",
       "    <tr>\n",
       "      <th>33</th>\n",
       "      <td>u_6453174</td>\n",
       "      <td>2</td>\n",
       "    </tr>\n",
       "    <tr>\n",
       "      <th>34</th>\n",
       "      <td>u_6780864</td>\n",
       "      <td>1</td>\n",
       "    </tr>\n",
       "    <tr>\n",
       "      <th>35</th>\n",
       "      <td>u_880866</td>\n",
       "      <td>2</td>\n",
       "    </tr>\n",
       "  </tbody>\n",
       "</table>\n",
       "</div>"
      ],
      "text/plain": [
       "       user_id  shop_id\n",
       "0   u_11191746        1\n",
       "1   u_11877791        1\n",
       "2   u_12201776        1\n",
       "3   u_13094691        1\n",
       "4   u_14666401        2\n",
       "5   u_14925812        1\n",
       "6   u_23595814        1\n",
       "7   u_24096210        1\n",
       "8   u_24276751        2\n",
       "9    u_2475751        1\n",
       "10  u_25184611        1\n",
       "11  u_25933165        1\n",
       "12    u_262453        1\n",
       "13  u_27407638        1\n",
       "14   u_2925237        1\n",
       "15  u_31018238        1\n",
       "16   u_3272480        1\n",
       "17  u_33362714        1\n",
       "18  u_34978877        2\n",
       "19  u_36295406        2\n",
       "20  u_36712028        1\n",
       "21   u_3868278        1\n",
       "22  u_43178301        2\n",
       "23  u_45107862        1\n",
       "24  u_45257803        2\n",
       "25  u_47368999        1\n",
       "26  u_48952936        2\n",
       "27  u_50690219        1\n",
       "28  u_56711618        2\n",
       "29  u_59329552        2\n",
       "30  u_59949226        1\n",
       "31  u_60525268        1\n",
       "32    u_641642        2\n",
       "33   u_6453174        2\n",
       "34   u_6780864        1\n",
       "35    u_880866        2"
      ]
     },
     "execution_count": 34,
     "metadata": {},
     "output_type": "execute_result"
    }
   ],
   "source": [
    "little.groupby(\"user_id\").count()[\"shop_id\"].reset_index()"
   ]
  },
  {
   "cell_type": "code",
   "execution_count": 38,
   "metadata": {},
   "outputs": [
    {
     "data": {
      "text/html": [
       "<div>\n",
       "<table border=\"1\" class=\"dataframe\">\n",
       "  <thead>\n",
       "    <tr style=\"text-align: right;\">\n",
       "      <th></th>\n",
       "      <th>user_id</th>\n",
       "      <th>shop_id</th>\n",
       "      <th>time_stamp</th>\n",
       "      <th>longitude</th>\n",
       "      <th>latitude</th>\n",
       "      <th>wifi_infos</th>\n",
       "      <th>category_id</th>\n",
       "      <th>shop_longitude</th>\n",
       "      <th>shop_latitude</th>\n",
       "      <th>price</th>\n",
       "      <th>mall_id</th>\n",
       "      <th>dt</th>\n",
       "      <th>weekday</th>\n",
       "      <th>hour</th>\n",
       "      <th>is_weekend</th>\n",
       "    </tr>\n",
       "  </thead>\n",
       "  <tbody>\n",
       "    <tr>\n",
       "      <th>62240</th>\n",
       "      <td>u_14666401</td>\n",
       "      <td>s_293082</td>\n",
       "      <td>2017-08-26 22:30</td>\n",
       "      <td>116.863017</td>\n",
       "      <td>40.326975</td>\n",
       "      <td>b_40142834|-73|false;b_41033308|-81|false;b_38...</td>\n",
       "      <td>c_30</td>\n",
       "      <td>116.863439</td>\n",
       "      <td>40.327104</td>\n",
       "      <td>48</td>\n",
       "      <td>m_7168</td>\n",
       "      <td>2017-08-26 22:30:00</td>\n",
       "      <td>5</td>\n",
       "      <td>22</td>\n",
       "      <td>1</td>\n",
       "    </tr>\n",
       "    <tr>\n",
       "      <th>62241</th>\n",
       "      <td>u_14666401</td>\n",
       "      <td>s_293082</td>\n",
       "      <td>2017-08-26 22:30</td>\n",
       "      <td>116.943501</td>\n",
       "      <td>40.393826</td>\n",
       "      <td>b_38005323|-77|false;b_18104413|-70|false;b_41...</td>\n",
       "      <td>c_30</td>\n",
       "      <td>116.863439</td>\n",
       "      <td>40.327104</td>\n",
       "      <td>48</td>\n",
       "      <td>m_7168</td>\n",
       "      <td>2017-08-26 22:30:00</td>\n",
       "      <td>5</td>\n",
       "      <td>22</td>\n",
       "      <td>1</td>\n",
       "    </tr>\n",
       "    <tr>\n",
       "      <th>62242</th>\n",
       "      <td>u_14666401</td>\n",
       "      <td>s_293082</td>\n",
       "      <td>2017-08-26 12:00</td>\n",
       "      <td>116.863017</td>\n",
       "      <td>40.326975</td>\n",
       "      <td>b_62803|-79|false;b_32788960|-70|false;b_33310...</td>\n",
       "      <td>c_30</td>\n",
       "      <td>116.863439</td>\n",
       "      <td>40.327104</td>\n",
       "      <td>48</td>\n",
       "      <td>m_7168</td>\n",
       "      <td>2017-08-26 12:00:00</td>\n",
       "      <td>5</td>\n",
       "      <td>12</td>\n",
       "      <td>1</td>\n",
       "    </tr>\n",
       "    <tr>\n",
       "      <th>62243</th>\n",
       "      <td>u_14666401</td>\n",
       "      <td>s_293082</td>\n",
       "      <td>2017-08-26 12:00</td>\n",
       "      <td>116.943501</td>\n",
       "      <td>40.393826</td>\n",
       "      <td>b_32788960|-70|false;b_33310185|-69|false;b_41...</td>\n",
       "      <td>c_30</td>\n",
       "      <td>116.863439</td>\n",
       "      <td>40.327104</td>\n",
       "      <td>48</td>\n",
       "      <td>m_7168</td>\n",
       "      <td>2017-08-26 12:00:00</td>\n",
       "      <td>5</td>\n",
       "      <td>12</td>\n",
       "      <td>1</td>\n",
       "    </tr>\n",
       "  </tbody>\n",
       "</table>\n",
       "</div>"
      ],
      "text/plain": [
       "          user_id   shop_id        time_stamp   longitude   latitude  \\\n",
       "62240  u_14666401  s_293082  2017-08-26 22:30  116.863017  40.326975   \n",
       "62241  u_14666401  s_293082  2017-08-26 22:30  116.943501  40.393826   \n",
       "62242  u_14666401  s_293082  2017-08-26 12:00  116.863017  40.326975   \n",
       "62243  u_14666401  s_293082  2017-08-26 12:00  116.943501  40.393826   \n",
       "\n",
       "                                              wifi_infos category_id  \\\n",
       "62240  b_40142834|-73|false;b_41033308|-81|false;b_38...        c_30   \n",
       "62241  b_38005323|-77|false;b_18104413|-70|false;b_41...        c_30   \n",
       "62242  b_62803|-79|false;b_32788960|-70|false;b_33310...        c_30   \n",
       "62243  b_32788960|-70|false;b_33310185|-69|false;b_41...        c_30   \n",
       "\n",
       "       shop_longitude  shop_latitude  price mall_id                  dt  \\\n",
       "62240      116.863439      40.327104     48  m_7168 2017-08-26 22:30:00   \n",
       "62241      116.863439      40.327104     48  m_7168 2017-08-26 22:30:00   \n",
       "62242      116.863439      40.327104     48  m_7168 2017-08-26 12:00:00   \n",
       "62243      116.863439      40.327104     48  m_7168 2017-08-26 12:00:00   \n",
       "\n",
       "       weekday  hour  is_weekend  \n",
       "62240        5    22           1  \n",
       "62241        5    22           1  \n",
       "62242        5    12           1  \n",
       "62243        5    12           1  "
      ]
     },
     "execution_count": 38,
     "metadata": {},
     "output_type": "execute_result"
    }
   ],
   "source": [
    "train[train.user_id==\"u_14666401\"]"
   ]
  },
  {
   "cell_type": "code",
   "execution_count": 44,
   "metadata": {},
   "outputs": [
    {
     "data": {
      "text/html": [
       "<div>\n",
       "<table border=\"1\" class=\"dataframe\">\n",
       "  <thead>\n",
       "    <tr style=\"text-align: right;\">\n",
       "      <th></th>\n",
       "      <th>user_id</th>\n",
       "      <th>shop_id</th>\n",
       "      <th>time_stamp</th>\n",
       "      <th>longitude</th>\n",
       "      <th>latitude</th>\n",
       "      <th>wifi_infos</th>\n",
       "      <th>category_id</th>\n",
       "      <th>shop_longitude</th>\n",
       "      <th>shop_latitude</th>\n",
       "      <th>price</th>\n",
       "      <th>mall_id</th>\n",
       "      <th>dt</th>\n",
       "      <th>weekday</th>\n",
       "      <th>hour</th>\n",
       "      <th>is_weekend</th>\n",
       "    </tr>\n",
       "  </thead>\n",
       "  <tbody>\n",
       "    <tr>\n",
       "      <th>459177</th>\n",
       "      <td>u_641642</td>\n",
       "      <td>s_381583</td>\n",
       "      <td>2017-08-27 22:30</td>\n",
       "      <td>116.863273</td>\n",
       "      <td>40.325892</td>\n",
       "      <td>b_26350282|-73|false;b_48202137|-85|false;b_38...</td>\n",
       "      <td>c_50</td>\n",
       "      <td>116.862992</td>\n",
       "      <td>40.32598</td>\n",
       "      <td>55</td>\n",
       "      <td>m_7168</td>\n",
       "      <td>2017-08-27 22:30:00</td>\n",
       "      <td>6</td>\n",
       "      <td>22</td>\n",
       "      <td>1</td>\n",
       "    </tr>\n",
       "    <tr>\n",
       "      <th>459178</th>\n",
       "      <td>u_641642</td>\n",
       "      <td>s_381583</td>\n",
       "      <td>2017-08-27 22:30</td>\n",
       "      <td>116.874976</td>\n",
       "      <td>40.308710</td>\n",
       "      <td>b_13844738|-49|false;b_54368891|-88|false;b_13...</td>\n",
       "      <td>c_50</td>\n",
       "      <td>116.862992</td>\n",
       "      <td>40.32598</td>\n",
       "      <td>55</td>\n",
       "      <td>m_7168</td>\n",
       "      <td>2017-08-27 22:30:00</td>\n",
       "      <td>6</td>\n",
       "      <td>22</td>\n",
       "      <td>1</td>\n",
       "    </tr>\n",
       "  </tbody>\n",
       "</table>\n",
       "</div>"
      ],
      "text/plain": [
       "         user_id   shop_id        time_stamp   longitude   latitude  \\\n",
       "459177  u_641642  s_381583  2017-08-27 22:30  116.863273  40.325892   \n",
       "459178  u_641642  s_381583  2017-08-27 22:30  116.874976  40.308710   \n",
       "\n",
       "                                               wifi_infos category_id  \\\n",
       "459177  b_26350282|-73|false;b_48202137|-85|false;b_38...        c_50   \n",
       "459178  b_13844738|-49|false;b_54368891|-88|false;b_13...        c_50   \n",
       "\n",
       "        shop_longitude  shop_latitude  price mall_id                  dt  \\\n",
       "459177      116.862992       40.32598     55  m_7168 2017-08-27 22:30:00   \n",
       "459178      116.862992       40.32598     55  m_7168 2017-08-27 22:30:00   \n",
       "\n",
       "        weekday  hour  is_weekend  \n",
       "459177        6    22           1  \n",
       "459178        6    22           1  "
      ]
     },
     "execution_count": 44,
     "metadata": {},
     "output_type": "execute_result"
    }
   ],
   "source": [
    "train[train.user_id==\"u_641642\"]"
   ]
  },
  {
   "cell_type": "code",
   "execution_count": 42,
   "metadata": {},
   "outputs": [
    {
     "data": {
      "text/plain": [
       "'b_26350282|-73|false;b_48202137|-85|false;b_38099830|-85|false;b_13844738|-49|false;b_13844739|-62|true;b_54368891|-88|false'"
      ]
     },
     "execution_count": 42,
     "metadata": {},
     "output_type": "execute_result"
    }
   ],
   "source": [
    "train[train.user_id==\"u_641642\"].wifi_infos.iloc[0]"
   ]
  },
  {
   "cell_type": "code",
   "execution_count": 43,
   "metadata": {},
   "outputs": [
    {
     "data": {
      "text/plain": [
       "'b_13844738|-49|false;b_54368891|-88|false;b_13844739|-62|true;b_38099830|-85|false;b_26350282|-73|false;b_48202137|-85|false'"
      ]
     },
     "execution_count": 43,
     "metadata": {},
     "output_type": "execute_result"
    }
   ],
   "source": [
    "train[train.user_id==\"u_641642\"].wifi_infos.iloc[1]"
   ]
  },
  {
   "cell_type": "code",
   "execution_count": 48,
   "metadata": {},
   "outputs": [],
   "source": [
    "g = train.groupby([\"user_id\",\"dt\"]).count()[\"shop_id\"].reset_index()"
   ]
  },
  {
   "cell_type": "code",
   "execution_count": 52,
   "metadata": {},
   "outputs": [
    {
     "data": {
      "image/png": "[encoded data removed]",
      "text/plain": [
       "<matplotlib.figure.Figure at 0x63d7110>"
      ]
     },
     "metadata": {},
     "output_type": "display_data"
    }
   ],
   "source": [
    "#大多数用户在同一时间只交易一次，部分用户会交易多次\n",
    "ses.countplot(x=\"shop_id\",data=g)\n",
    "plt.show()"
   ]
  },
  {
   "cell_type": "code",
   "execution_count": 55,
   "metadata": {},
   "outputs": [
    {
     "data": {
      "text/html": [
       "<div>\n",
       "<table border=\"1\" class=\"dataframe\">\n",
       "  <thead>\n",
       "    <tr style=\"text-align: right;\">\n",
       "      <th></th>\n",
       "      <th>shop_id</th>\n",
       "    </tr>\n",
       "  </thead>\n",
       "  <tbody>\n",
       "    <tr>\n",
       "      <th>count</th>\n",
       "      <td>2401.000000</td>\n",
       "    </tr>\n",
       "    <tr>\n",
       "      <th>mean</th>\n",
       "      <td>2.200333</td>\n",
       "    </tr>\n",
       "    <tr>\n",
       "      <th>std</th>\n",
       "      <td>0.532541</td>\n",
       "    </tr>\n",
       "    <tr>\n",
       "      <th>min</th>\n",
       "      <td>2.000000</td>\n",
       "    </tr>\n",
       "    <tr>\n",
       "      <th>25%</th>\n",
       "      <td>2.000000</td>\n",
       "    </tr>\n",
       "    <tr>\n",
       "      <th>50%</th>\n",
       "      <td>2.000000</td>\n",
       "    </tr>\n",
       "    <tr>\n",
       "      <th>75%</th>\n",
       "      <td>2.000000</td>\n",
       "    </tr>\n",
       "    <tr>\n",
       "      <th>max</th>\n",
       "      <td>9.000000</td>\n",
       "    </tr>\n",
       "  </tbody>\n",
       "</table>\n",
       "</div>"
      ],
      "text/plain": [
       "           shop_id\n",
       "count  2401.000000\n",
       "mean      2.200333\n",
       "std       0.532541\n",
       "min       2.000000\n",
       "25%       2.000000\n",
       "50%       2.000000\n",
       "75%       2.000000\n",
       "max       9.000000"
      ]
     },
     "execution_count": 55,
     "metadata": {},
     "output_type": "execute_result"
    }
   ],
   "source": [
    "g[g.shop_id>=2].describe()"
   ]
  },
  {
   "cell_type": "code",
   "execution_count": 54,
   "metadata": {},
   "outputs": [
    {
     "data": {
      "text/html": [
       "<div>\n",
       "<table border=\"1\" class=\"dataframe\">\n",
       "  <thead>\n",
       "    <tr style=\"text-align: right;\">\n",
       "      <th></th>\n",
       "      <th>user_id</th>\n",
       "      <th>shop_id</th>\n",
       "      <th>time_stamp</th>\n",
       "      <th>longitude</th>\n",
       "      <th>latitude</th>\n",
       "      <th>wifi_infos</th>\n",
       "      <th>category_id</th>\n",
       "      <th>shop_longitude</th>\n",
       "      <th>shop_latitude</th>\n",
       "      <th>price</th>\n",
       "      <th>mall_id</th>\n",
       "      <th>dt</th>\n",
       "      <th>weekday</th>\n",
       "      <th>hour</th>\n",
       "      <th>is_weekend</th>\n",
       "    </tr>\n",
       "  </thead>\n",
       "  <tbody>\n",
       "    <tr>\n",
       "      <th>234055</th>\n",
       "      <td>u_1012548</td>\n",
       "      <td>s_4386</td>\n",
       "      <td>2017-08-26 16:40</td>\n",
       "      <td>116.862771</td>\n",
       "      <td>40.326287</td>\n",
       "      <td>b_47498483|-88|false;b_34767971|-72|false;b_11...</td>\n",
       "      <td>c_29</td>\n",
       "      <td>116.862505</td>\n",
       "      <td>40.325858</td>\n",
       "      <td>52</td>\n",
       "      <td>m_7168</td>\n",
       "      <td>2017-08-26 16:40:00</td>\n",
       "      <td>5</td>\n",
       "      <td>16</td>\n",
       "      <td>1</td>\n",
       "    </tr>\n",
       "    <tr>\n",
       "      <th>234058</th>\n",
       "      <td>u_1012548</td>\n",
       "      <td>s_4386</td>\n",
       "      <td>2017-08-26 16:40</td>\n",
       "      <td>116.862486</td>\n",
       "      <td>40.327467</td>\n",
       "      <td>b_25539529|-74|false;b_47526483|-87|false;b_37...</td>\n",
       "      <td>c_29</td>\n",
       "      <td>116.862505</td>\n",
       "      <td>40.325858</td>\n",
       "      <td>52</td>\n",
       "      <td>m_7168</td>\n",
       "      <td>2017-08-26 16:40:00</td>\n",
       "      <td>5</td>\n",
       "      <td>16</td>\n",
       "      <td>1</td>\n",
       "    </tr>\n",
       "    <tr>\n",
       "      <th>234054</th>\n",
       "      <td>u_1012548</td>\n",
       "      <td>s_4386</td>\n",
       "      <td>2017-08-26 18:00</td>\n",
       "      <td>116.862771</td>\n",
       "      <td>40.326287</td>\n",
       "      <td>b_19496611|-86|false;b_32126069|-88|false;b_62...</td>\n",
       "      <td>c_29</td>\n",
       "      <td>116.862505</td>\n",
       "      <td>40.325858</td>\n",
       "      <td>52</td>\n",
       "      <td>m_7168</td>\n",
       "      <td>2017-08-26 18:00:00</td>\n",
       "      <td>5</td>\n",
       "      <td>18</td>\n",
       "      <td>1</td>\n",
       "    </tr>\n",
       "    <tr>\n",
       "      <th>234057</th>\n",
       "      <td>u_1012548</td>\n",
       "      <td>s_383953</td>\n",
       "      <td>2017-08-26 18:00</td>\n",
       "      <td>116.863273</td>\n",
       "      <td>40.325901</td>\n",
       "      <td>b_62556|-73|false;b_19496611|-82|false;b_31568...</td>\n",
       "      <td>c_17</td>\n",
       "      <td>116.862436</td>\n",
       "      <td>40.327368</td>\n",
       "      <td>64</td>\n",
       "      <td>m_7168</td>\n",
       "      <td>2017-08-26 18:00:00</td>\n",
       "      <td>5</td>\n",
       "      <td>18</td>\n",
       "      <td>1</td>\n",
       "    </tr>\n",
       "    <tr>\n",
       "      <th>234059</th>\n",
       "      <td>u_1012548</td>\n",
       "      <td>s_4386</td>\n",
       "      <td>2017-08-26 18:00</td>\n",
       "      <td>116.862486</td>\n",
       "      <td>40.327467</td>\n",
       "      <td>b_62443|-81|false;b_62638|-81|false;b_49747231...</td>\n",
       "      <td>c_29</td>\n",
       "      <td>116.862505</td>\n",
       "      <td>40.325858</td>\n",
       "      <td>52</td>\n",
       "      <td>m_7168</td>\n",
       "      <td>2017-08-26 18:00:00</td>\n",
       "      <td>5</td>\n",
       "      <td>18</td>\n",
       "      <td>1</td>\n",
       "    </tr>\n",
       "    <tr>\n",
       "      <th>234061</th>\n",
       "      <td>u_1012548</td>\n",
       "      <td>s_383953</td>\n",
       "      <td>2017-08-26 18:00</td>\n",
       "      <td>116.862232</td>\n",
       "      <td>40.327525</td>\n",
       "      <td>b_62556|-73|false;b_32126069|-88|false;b_15405...</td>\n",
       "      <td>c_17</td>\n",
       "      <td>116.862436</td>\n",
       "      <td>40.327368</td>\n",
       "      <td>64</td>\n",
       "      <td>m_7168</td>\n",
       "      <td>2017-08-26 18:00:00</td>\n",
       "      <td>5</td>\n",
       "      <td>18</td>\n",
       "      <td>1</td>\n",
       "    </tr>\n",
       "    <tr>\n",
       "      <th>234056</th>\n",
       "      <td>u_1012548</td>\n",
       "      <td>s_383953</td>\n",
       "      <td>2017-08-26 18:20</td>\n",
       "      <td>116.863273</td>\n",
       "      <td>40.325901</td>\n",
       "      <td>b_50135722|-68|false;b_39388748|-76|false;b_20...</td>\n",
       "      <td>c_17</td>\n",
       "      <td>116.862436</td>\n",
       "      <td>40.327368</td>\n",
       "      <td>64</td>\n",
       "      <td>m_7168</td>\n",
       "      <td>2017-08-26 18:20:00</td>\n",
       "      <td>5</td>\n",
       "      <td>18</td>\n",
       "      <td>1</td>\n",
       "    </tr>\n",
       "    <tr>\n",
       "      <th>234060</th>\n",
       "      <td>u_1012548</td>\n",
       "      <td>s_383953</td>\n",
       "      <td>2017-08-26 18:20</td>\n",
       "      <td>116.862232</td>\n",
       "      <td>40.327525</td>\n",
       "      <td>b_20579288|-70|false;b_8211594|-79|false;b_263...</td>\n",
       "      <td>c_17</td>\n",
       "      <td>116.862436</td>\n",
       "      <td>40.327368</td>\n",
       "      <td>64</td>\n",
       "      <td>m_7168</td>\n",
       "      <td>2017-08-26 18:20:00</td>\n",
       "      <td>5</td>\n",
       "      <td>18</td>\n",
       "      <td>1</td>\n",
       "    </tr>\n",
       "  </tbody>\n",
       "</table>\n",
       "</div>"
      ],
      "text/plain": [
       "          user_id   shop_id        time_stamp   longitude   latitude  \\\n",
       "234055  u_1012548    s_4386  2017-08-26 16:40  116.862771  40.326287   \n",
       "234058  u_1012548    s_4386  2017-08-26 16:40  116.862486  40.327467   \n",
       "234054  u_1012548    s_4386  2017-08-26 18:00  116.862771  40.326287   \n",
       "234057  u_1012548  s_383953  2017-08-26 18:00  116.863273  40.325901   \n",
       "234059  u_1012548    s_4386  2017-08-26 18:00  116.862486  40.327467   \n",
       "234061  u_1012548  s_383953  2017-08-26 18:00  116.862232  40.327525   \n",
       "234056  u_1012548  s_383953  2017-08-26 18:20  116.863273  40.325901   \n",
       "234060  u_1012548  s_383953  2017-08-26 18:20  116.862232  40.327525   \n",
       "\n",
       "                                               wifi_infos category_id  \\\n",
       "234055  b_47498483|-88|false;b_34767971|-72|false;b_11...        c_29   \n",
       "234058  b_25539529|-74|false;b_47526483|-87|false;b_37...        c_29   \n",
       "234054  b_19496611|-86|false;b_32126069|-88|false;b_62...        c_29   \n",
       "234057  b_62556|-73|false;b_19496611|-82|false;b_31568...        c_17   \n",
       "234059  b_62443|-81|false;b_62638|-81|false;b_49747231...        c_29   \n",
       "234061  b_62556|-73|false;b_32126069|-88|false;b_15405...        c_17   \n",
       "234056  b_50135722|-68|false;b_39388748|-76|false;b_20...        c_17   \n",
       "234060  b_20579288|-70|false;b_8211594|-79|false;b_263...        c_17   \n",
       "\n",
       "        shop_longitude  shop_latitude  price mall_id                  dt  \\\n",
       "234055      116.862505      40.325858     52  m_7168 2017-08-26 16:40:00   \n",
       "234058      116.862505      40.325858     52  m_7168 2017-08-26 16:40:00   \n",
       "234054      116.862505      40.325858     52  m_7168 2017-08-26 18:00:00   \n",
       "234057      116.862436      40.327368     64  m_7168 2017-08-26 18:00:00   \n",
       "234059      116.862505      40.325858     52  m_7168 2017-08-26 18:00:00   \n",
       "234061      116.862436      40.327368     64  m_7168 2017-08-26 18:00:00   \n",
       "234056      116.862436      40.327368     64  m_7168 2017-08-26 18:20:00   \n",
       "234060      116.862436      40.327368     64  m_7168 2017-08-26 18:20:00   \n",
       "\n",
       "        weekday  hour  is_weekend  \n",
       "234055        5    16           1  \n",
       "234058        5    16           1  \n",
       "234054        5    18           1  \n",
       "234057        5    18           1  \n",
       "234059        5    18           1  \n",
       "234061        5    18           1  \n",
       "234056        5    18           1  \n",
       "234060        5    18           1  "
      ]
     },
     "execution_count": 54,
     "metadata": {},
     "output_type": "execute_result"
    }
   ],
   "source": [
    "train[train.user_id==\"u_1012548\"].sort_values(by=\"dt\")"
   ]
  },
  {
   "cell_type": "code",
   "execution_count": 65,
   "metadata": {},
   "outputs": [
    {
     "name": "stderr",
     "output_type": "stream",
     "text": [
      "/usr/lib/python2.7/site-packages/ipykernel_launcher.py:1: SettingWithCopyWarning: \n",
      "A value is trying to be set on a copy of a slice from a DataFrame.\n",
      "Try using .loc[row_indexer,col_indexer] = value instead\n",
      "\n",
      "See the caveats in the documentation: http://pandas.pydata.org/pandas-docs/stable/indexing.html#indexing-view-versus-copy\n",
      "  \"\"\"Entry point for launching an IPython kernel.\n"
     ]
    }
   ],
   "source": [
    "train[\"dayofyear\"] = train.dt.dt.dayofyear"
   ]
  },
  {
   "cell_type": "code",
   "execution_count": 68,
   "metadata": {},
   "outputs": [],
   "source": [
    "g2 = train.groupby([\"user_id\",\"dayofyear\"]).count()[\"shop_id\"].reset_index()"
   ]
  },
  {
   "cell_type": "code",
   "execution_count": 72,
   "metadata": {},
   "outputs": [],
   "source": [
    "g2morethan2 = g2[g2.shop_id >= 2]"
   ]
  },
  {
   "cell_type": "code",
   "execution_count": 85,
   "metadata": {},
   "outputs": [
    {
     "data": {
      "text/html": [
       "<div>\n",
       "<table border=\"1\" class=\"dataframe\">\n",
       "  <thead>\n",
       "    <tr style=\"text-align: right;\">\n",
       "      <th></th>\n",
       "      <th>user_id</th>\n",
       "      <th>shop_id</th>\n",
       "      <th>time_stamp</th>\n",
       "      <th>longitude</th>\n",
       "      <th>latitude</th>\n",
       "      <th>wifi_infos</th>\n",
       "      <th>category_id</th>\n",
       "      <th>shop_longitude</th>\n",
       "      <th>shop_latitude</th>\n",
       "      <th>price</th>\n",
       "      <th>mall_id</th>\n",
       "      <th>dt</th>\n",
       "      <th>weekday</th>\n",
       "      <th>hour</th>\n",
       "      <th>is_weekend</th>\n",
       "      <th>dayofyear</th>\n",
       "    </tr>\n",
       "  </thead>\n",
       "  <tbody>\n",
       "    <tr>\n",
       "      <th>726455</th>\n",
       "      <td>u_10183067</td>\n",
       "      <td>s_295308</td>\n",
       "      <td>2017-08-24 17:10</td>\n",
       "      <td>116.863016</td>\n",
       "      <td>40.326973</td>\n",
       "      <td>b_33310185|-75|false;b_20417640|-71|false;b_62...</td>\n",
       "      <td>c_39</td>\n",
       "      <td>116.863515</td>\n",
       "      <td>40.327064</td>\n",
       "      <td>47</td>\n",
       "      <td>m_7168</td>\n",
       "      <td>2017-08-24 17:10:00</td>\n",
       "      <td>3</td>\n",
       "      <td>17</td>\n",
       "      <td>0</td>\n",
       "      <td>236</td>\n",
       "    </tr>\n",
       "    <tr>\n",
       "      <th>726456</th>\n",
       "      <td>u_10183067</td>\n",
       "      <td>s_295706</td>\n",
       "      <td>2017-08-24 17:00</td>\n",
       "      <td>116.863034</td>\n",
       "      <td>40.327030</td>\n",
       "      <td>b_32126069|-73|false;b_22112416|-59|false;b_40...</td>\n",
       "      <td>c_13</td>\n",
       "      <td>116.863428</td>\n",
       "      <td>40.327109</td>\n",
       "      <td>50</td>\n",
       "      <td>m_7168</td>\n",
       "      <td>2017-08-24 17:00:00</td>\n",
       "      <td>3</td>\n",
       "      <td>17</td>\n",
       "      <td>0</td>\n",
       "      <td>236</td>\n",
       "    </tr>\n",
       "  </tbody>\n",
       "</table>\n",
       "</div>"
      ],
      "text/plain": [
       "           user_id   shop_id        time_stamp   longitude   latitude  \\\n",
       "726455  u_10183067  s_295308  2017-08-24 17:10  116.863016  40.326973   \n",
       "726456  u_10183067  s_295706  2017-08-24 17:00  116.863034  40.327030   \n",
       "\n",
       "                                               wifi_infos category_id  \\\n",
       "726455  b_33310185|-75|false;b_20417640|-71|false;b_62...        c_39   \n",
       "726456  b_32126069|-73|false;b_22112416|-59|false;b_40...        c_13   \n",
       "\n",
       "        shop_longitude  shop_latitude  price mall_id                  dt  \\\n",
       "726455      116.863515      40.327064     47  m_7168 2017-08-24 17:10:00   \n",
       "726456      116.863428      40.327109     50  m_7168 2017-08-24 17:00:00   \n",
       "\n",
       "        weekday  hour  is_weekend  dayofyear  \n",
       "726455        3    17           0        236  \n",
       "726456        3    17           0        236  "
      ]
     },
     "execution_count": 85,
     "metadata": {},
     "output_type": "execute_result"
    }
   ],
   "source": [
    "train[train.user_id==g2morethan2.user_id.iloc[7]]"
   ]
  },
  {
   "cell_type": "code",
   "execution_count": null,
   "metadata": {},
   "outputs": [],
   "source": []
  }
 ],
 "metadata": {
  "kernelspec": {
   "display_name": "Python 2",
   "language": "python",
   "name": "python2"
  },
  "language_info": {
   "codemirror_mode": {
    "name": "ipython",
    "version": 2
   },
   "file_extension": ".py",
   "mimetype": "text/x-python",
   "name": "python",
   "nbconvert_exporter": "python",
   "pygments_lexer": "ipython2",
   "version": "2.7.5"
  }
 },
 "nbformat": 4,
 "nbformat_minor": 2
}
