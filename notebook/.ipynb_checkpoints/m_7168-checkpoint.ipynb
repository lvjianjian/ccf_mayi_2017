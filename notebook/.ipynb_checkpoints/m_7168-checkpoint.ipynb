{
 "cells": [
  {
   "cell_type": "code",
   "execution_count": 2,
   "metadata": {},
   "outputs": [],
   "source": [
    "from util import *\n",
    "import matplotlib.pyplot as plt\n",
    "import seaborn as ses"
   ]
  },
  {
   "cell_type": "code",
   "execution_count": 3,
   "metadata": {},
   "outputs": [],
   "source": [
    "mall_id = \"m_7168\"\n",
    "train = load_train()\n",
    "train = train[train.mall_id==mall_id]\n",
    "test = load_testA()\n",
    "test = test[test.mall_id == mall_id]\n",
    "shop = load_shop_info()"
   ]
  },
  {
   "cell_type": "code",
   "execution_count": 10,
   "metadata": {},
   "outputs": [
    {
     "name": "stdout",
     "output_type": "stream",
     "text": [
      "train user shape (26355,) unique shape (15777,)\n",
      "test user shape (11737,) unique shape (7721,)\n",
      "train union test user unique shape (21895,)\n",
      "train intersect test user unique shape (1603,)\n"
     ]
    }
   ],
   "source": [
    "print \"train\", \"user shape\", train.user_id.shape, \"unique shape\", train.user_id.unique().shape\n",
    "print \"test\", \"user shape\", test.user_id.shape, \"unique shape\", test.user_id.unique().shape\n",
    "print \"train union test user unique shape\", np.union1d(train.user_id.unique(),test.user_id.unique()).shape\n",
    "print \"train intersect test user unique shape\", np.intersect1d(train.user_id.unique(),test.user_id.unique()).shape"
   ]
  },
  {
   "cell_type": "code",
   "execution_count": 25,
   "metadata": {},
   "outputs": [],
   "source": [
    "user_count = train.groupby(\"user_id\").count()[\"shop_id\"].reset_index().sort_values(by=\"shop_id\",ascending=False)\n",
    "part_user_10 = user_count[user_count.shop_id > 10]"
   ]
  },
  {
   "cell_type": "code",
   "execution_count": 27,
   "metadata": {},
   "outputs": [
    {
     "data": {
      "text/html": [
       "<div>\n",
       "<table border=\"1\" class=\"dataframe\">\n",
       "  <thead>\n",
       "    <tr style=\"text-align: right;\">\n",
       "      <th></th>\n",
       "      <th>user_id</th>\n",
       "      <th>shop_id</th>\n",
       "    </tr>\n",
       "  </thead>\n",
       "  <tbody>\n",
       "    <tr>\n",
       "      <th>5006</th>\n",
       "      <td>u_26059542</td>\n",
       "      <td>55</td>\n",
       "    </tr>\n",
       "    <tr>\n",
       "      <th>6540</th>\n",
       "      <td>u_32130913</td>\n",
       "      <td>36</td>\n",
       "    </tr>\n",
       "    <tr>\n",
       "      <th>13508</th>\n",
       "      <td>u_57772653</td>\n",
       "      <td>34</td>\n",
       "    </tr>\n",
       "    <tr>\n",
       "      <th>6273</th>\n",
       "      <td>u_30769431</td>\n",
       "      <td>23</td>\n",
       "    </tr>\n",
       "    <tr>\n",
       "      <th>8278</th>\n",
       "      <td>u_38073414</td>\n",
       "      <td>21</td>\n",
       "    </tr>\n",
       "    <tr>\n",
       "      <th>13707</th>\n",
       "      <td>u_58732988</td>\n",
       "      <td>19</td>\n",
       "    </tr>\n",
       "    <tr>\n",
       "      <th>6566</th>\n",
       "      <td>u_32316126</td>\n",
       "      <td>19</td>\n",
       "    </tr>\n",
       "    <tr>\n",
       "      <th>9833</th>\n",
       "      <td>u_44071612</td>\n",
       "      <td>17</td>\n",
       "    </tr>\n",
       "    <tr>\n",
       "      <th>1241</th>\n",
       "      <td>u_13145620</td>\n",
       "      <td>17</td>\n",
       "    </tr>\n",
       "    <tr>\n",
       "      <th>10599</th>\n",
       "      <td>u_46189169</td>\n",
       "      <td>17</td>\n",
       "    </tr>\n",
       "  </tbody>\n",
       "</table>\n",
       "</div>"
      ],
      "text/plain": [
       "          user_id  shop_id\n",
       "5006   u_26059542       55\n",
       "6540   u_32130913       36\n",
       "13508  u_57772653       34\n",
       "6273   u_30769431       23\n",
       "8278   u_38073414       21\n",
       "13707  u_58732988       19\n",
       "6566   u_32316126       19\n",
       "9833   u_44071612       17\n",
       "1241   u_13145620       17\n",
       "10599  u_46189169       17"
      ]
     },
     "execution_count": 27,
     "metadata": {},
     "output_type": "execute_result"
    }
   ],
   "source": [
    "part_user_10[:10]"
   ]
  },
  {
   "cell_type": "code",
   "execution_count": 97,
   "metadata": {
    "scrolled": true
   },
   "outputs": [
    {
     "name": "stdout",
     "output_type": "stream",
     "text": [
      "0.0545454545455\n",
      "106.0\n",
      "\n",
      "0.0555555555556\n",
      "495.0\n",
      "\n",
      "0.0588235294118\n",
      "55.0\n",
      "\n",
      "0.0869565217391\n",
      "111.0\n",
      "\n",
      "0.0952380952381\n",
      "192.0\n",
      "\n",
      "0.105263157895\n",
      "174.0\n",
      "\n",
      "0.105263157895\n",
      "116.0\n",
      "\n",
      "0.117647058824\n",
      "288.0\n",
      "\n",
      "0.117647058824\n",
      "240.0\n",
      "\n",
      "0.117647058824\n",
      "192.0\n",
      "\n"
     ]
    },
    {
     "name": "stderr",
     "output_type": "stream",
     "text": [
      "/usr/lib/python2.7/site-packages/ipykernel_launcher.py:4: VisibleDeprecationWarning: boolean index did not match indexed array along dimension 0; dimension is 26355 but corresponding boolean dimension is 55\n",
      "  after removing the cwd from sys.path.\n",
      "/usr/lib/python2.7/site-packages/ipykernel_launcher.py:4: VisibleDeprecationWarning: boolean index did not match indexed array along dimension 0; dimension is 26355 but corresponding boolean dimension is 36\n",
      "  after removing the cwd from sys.path.\n",
      "/usr/lib/python2.7/site-packages/ipykernel_launcher.py:4: VisibleDeprecationWarning: boolean index did not match indexed array along dimension 0; dimension is 26355 but corresponding boolean dimension is 34\n",
      "  after removing the cwd from sys.path.\n",
      "/usr/lib/python2.7/site-packages/ipykernel_launcher.py:4: VisibleDeprecationWarning: boolean index did not match indexed array along dimension 0; dimension is 26355 but corresponding boolean dimension is 23\n",
      "  after removing the cwd from sys.path.\n",
      "/usr/lib/python2.7/site-packages/ipykernel_launcher.py:4: VisibleDeprecationWarning: boolean index did not match indexed array along dimension 0; dimension is 26355 but corresponding boolean dimension is 21\n",
      "  after removing the cwd from sys.path.\n",
      "/usr/lib/python2.7/site-packages/ipykernel_launcher.py:4: VisibleDeprecationWarning: boolean index did not match indexed array along dimension 0; dimension is 26355 but corresponding boolean dimension is 19\n",
      "  after removing the cwd from sys.path.\n",
      "/usr/lib/python2.7/site-packages/ipykernel_launcher.py:4: VisibleDeprecationWarning: boolean index did not match indexed array along dimension 0; dimension is 26355 but corresponding boolean dimension is 17\n",
      "  after removing the cwd from sys.path.\n"
     ]
    }
   ],
   "source": [
    "for i in range(10):\n",
    "    u = train[train.user_id ==  part_user_10.user_id.values[i]]\n",
    "    u_test = test[test.user_id == part_user_10.user_id.values[i]]\n",
    "    u_matrix = train_matrix[np.in1d(u.index,train_index)] \n",
    "    print (u_matrix > -60).sum(0).max() / float(u_matrix.shape[0])\n",
    "    print (u_matrix > -60).sum().max() * float(u.shop_id.unique().shape[0])\n",
    "    print "
   ]
  },
  {
   "cell_type": "code",
   "execution_count": 42,
   "metadata": {},
   "outputs": [
    {
     "data": {
      "image/png": "[encoded data removed]",
      "text/plain": [
       "<matplotlib.figure.Figure at 0x274cc590>"
      ]
     },
     "metadata": {},
     "output_type": "display_data"
    },
    {
     "data": {
      "image/png": "[encoded data removed]",
      "text/plain": [
       "<matplotlib.figure.Figure at 0x22e78750>"
      ]
     },
     "metadata": {},
     "output_type": "display_data"
    }
   ],
   "source": [
    "preprocess_basic_time(u)\n",
    "ses.countplot(x=\"weekday\",data=u)\n",
    "plt.show()\n",
    "ses.countplot(u.dt.dt.week)\n",
    "plt.show()"
   ]
  },
  {
   "cell_type": "code",
   "execution_count": 47,
   "metadata": {},
   "outputs": [
    {
     "data": {
      "image/png": "[encoded data removed]",
      "text/plain": [
       "<matplotlib.figure.Figure at 0x22ec7910>"
      ]
     },
     "metadata": {},
     "output_type": "display_data"
    }
   ],
   "source": [
    "preprocess_basic_time(u_test)\n",
    "ses.countplot(u_test.dt.dt.week)\n",
    "plt.show()"
   ]
  },
  {
   "cell_type": "code",
   "execution_count": 57,
   "metadata": {},
   "outputs": [
    {
     "name": "stdout",
     "output_type": "stream",
     "text": [
      "u_26059542 ['s_460419']\n",
      "u_32130913 ['s_295706' 's_293805' 's_2310712' 's_293785' 's_45040' 's_294960'\n",
      " 's_293704' 's_293082' 's_293031']\n",
      "u_57772653 ['s_460419']\n",
      "u_30769431 ['s_294960' 's_460419' 's_293805']\n",
      "u_38073414 ['s_2303129' 's_2310712' 's_295706' 's_293704' 's_15236' 's_293082']\n",
      "u_58732988 ['s_295610' 's_293031' 's_294960' 's_45040' 's_293785' 's_2310712']\n",
      "u_32316126 ['s_62317' 's_301215' 's_4386' 's_448230']\n",
      "u_44071612 ['s_43369' 's_3749811' 's_3741710' 's_39875' 's_4386' 's_20731' 's_381787'\n",
      " 's_63306' 's_3846218' 's_41948' 's_135671' 's_62317']\n",
      "u_13145620 ['s_293704' 's_8426' 's_294228' 's_294960' 's_2310712' 's_293785'\n",
      " 's_2303143' 's_295706' 's_293805' 's_97734']\n",
      "u_46189169 ['s_2303129' 's_2783591' 's_293805' 's_2956027' 's_385716' 's_293704'\n",
      " 's_293082' 's_293031']\n",
      "u_28145494 ['s_295706' 's_301215' 's_2783591' 's_381583' 's_293805' 's_2303143'\n",
      " 's_2310712' 's_2303129' 's_293785' 's_788134' 's_385716' 's_293704']\n",
      "u_36521134 ['s_460419' 's_381583']\n",
      "u_57038308 ['s_293805' 's_295706' 's_301215' 's_454017' 's_381725' 's_293082']\n",
      "u_16124687 ['s_62317' 's_293610']\n",
      "u_55657809 ['s_454017' 's_3749811' 's_2959694' 's_3587253' 's_8426' 's_788134'\n",
      " 's_41948']\n",
      "u_12020295 ['s_2303129' 's_294960' 's_4386' 's_45040' 's_294228' 's_2783591'\n",
      " 's_293031' 's_293082' 's_295610']\n",
      "u_21257069 ['s_3886681' 's_2783591' 's_293805' 's_295706' 's_293785' 's_2310712'\n",
      " 's_381725' 's_293082']\n",
      "u_24307317 ['s_294294' 's_293805' 's_77146' 's_97734' 's_293785' 's_295610' 's_555648'\n",
      " 's_385716' 's_293082']\n",
      "u_2899749 ['s_293805' 's_293785' 's_2303143' 's_2310712' 's_295308']\n",
      "u_47852203 ['s_293704' 's_3033946' 's_381583']\n",
      "u_22860895 ['s_460419']\n",
      "u_53592852 ['s_294294' 's_295706' 's_46295' 's_295308']\n",
      "u_38958419 ['s_62317']\n",
      "u_11253311 ['s_294294' 's_390156']\n",
      "u_14265060 ['s_59928' 's_1224414' 's_381787' 's_3637']\n",
      "u_5448983 ['s_15236' 's_39875' 's_42761' 's_3886681' 's_1224414' 's_381583']\n",
      "u_35971962 ['s_381583' 's_97734' 's_39875' 's_295610']\n",
      "u_917102 ['s_293805' 's_295706' 's_2783591' 's_293785' 's_293704' 's_293031'\n",
      " 's_293082' 's_165228']\n",
      "u_49314809 ['s_460419' 's_45040']\n",
      "u_243278 ['s_295706' 's_293704' 's_295610' 's_293082']\n",
      "u_26481816 ['s_295706' 's_294960' 's_2303143' 's_294228' 's_293031' 's_293704']\n",
      "u_47399372 ['s_41948' 's_59928' 's_4386' 's_381583' 's_301215' 's_7452']\n",
      "u_3839945 ['s_295308' 's_293082' 's_381725' 's_294960' 's_456529' 's_2310712'\n",
      " 's_3886681']\n",
      "u_9919888 ['s_293805' 's_295706' 's_45040' 's_295610' 's_293082' 's_295308' 's_41948']\n",
      "u_8131060 ['s_460419']\n",
      "u_2206854 ['s_293704' 's_294228' 's_293785' 's_7452' 's_460419']\n",
      "u_13338433 ['s_2310712' 's_2303143' 's_97734' 's_293805' 's_293082']\n",
      "u_45133736 ['s_2783591' 's_293805' 's_301215' 's_294960' 's_2303129' 's_62317']\n"
     ]
    }
   ],
   "source": [
    "for _u in part_user_10.user_id.values:\n",
    "    print _u, train[train.user_id == _u].shop_id.unique()"
   ]
  },
  {
   "cell_type": "code",
   "execution_count": 59,
   "metadata": {},
   "outputs": [
    {
     "name": "stdout",
     "output_type": "stream",
     "text": [
      "       shop_id category_id  shop_longitude  shop_latitude  price mall_id\n",
      "2905  s_460419        c_27      116.862611      40.326208     46  m_7168\n",
      "     shop_id category_id  shop_longitude  shop_latitude  price mall_id\n",
      "418  s_45040        c_29      116.863733      40.326627     50  m_7168\n"
     ]
    }
   ],
   "source": [
    "print shop[shop.shop_id==\"s_460419\"]\n",
    "print shop[shop.shop_id==\"s_45040\"]\n"
   ]
  },
  {
   "cell_type": "code",
   "execution_count": 61,
   "metadata": {},
   "outputs": [],
   "source": [
    "df,train_cache, test_cache = get_wifi_cache(mall_id)\n",
    "train_index = train_cache[0]\n",
    "train_use_wifi = train_cache[1]\n",
    "train_matrix = train_cache[2]\n",
    "test_index = test_cache[0]\n",
    "test_use_wifi = test_cache[1]\n",
    "test_matrix = test_cache[2]"
   ]
  },
  {
   "cell_type": "code",
   "execution_count": 86,
   "metadata": {},
   "outputs": [
    {
     "name": "stderr",
     "output_type": "stream",
     "text": [
      "/usr/lib/python2.7/site-packages/ipykernel_launcher.py:1: VisibleDeprecationWarning: boolean index did not match indexed array along dimension 0; dimension is 26355 but corresponding boolean dimension is 55\n",
      "  \"\"\"Entry point for launching an IPython kernel.\n"
     ]
    },
    {
     "data": {
      "text/plain": [
       "9"
      ]
     },
     "execution_count": 86,
     "metadata": {},
     "output_type": "execute_result"
    }
   ],
   "source": []
  },
  {
   "cell_type": "code",
   "execution_count": 85,
   "metadata": {},
   "outputs": [
    {
     "data": {
      "text/plain": [
       "9"
      ]
     },
     "execution_count": 85,
     "metadata": {},
     "output_type": "execute_result"
    }
   ],
   "source": []
  },
  {
   "cell_type": "code",
   "execution_count": 98,
   "metadata": {},
   "outputs": [
    {
     "data": {
      "text/plain": [
       "'u_26059542'"
      ]
     },
     "execution_count": 98,
     "metadata": {},
     "output_type": "execute_result"
    }
   ],
   "source": [
    "part_user_10.user_id.values[0]"
   ]
  },
  {
   "cell_type": "code",
   "execution_count": 126,
   "metadata": {},
   "outputs": [],
   "source": [
    "pt = train[train.user_id==part_user_10.user_id.values[0]]\n",
    "s = train[train.shop_id==\"s_460419\"]"
   ]
  },
  {
   "cell_type": "code",
   "execution_count": 102,
   "metadata": {},
   "outputs": [
    {
     "data": {
      "text/plain": [
       "(527, 11)"
      ]
     },
     "execution_count": 102,
     "metadata": {},
     "output_type": "execute_result"
    }
   ],
   "source": [
    "s.shape"
   ]
  },
  {
   "cell_type": "code",
   "execution_count": 105,
   "metadata": {},
   "outputs": [],
   "source": [
    "pre = pd.read_csv(\"../result/m_7168/test.csv\",index_col=0)"
   ]
  },
  {
   "cell_type": "code",
   "execution_count": 113,
   "metadata": {},
   "outputs": [],
   "source": [
    "error = pre[pre.predict != pre.real]\n"
   ]
  },
  {
   "cell_type": "code",
   "execution_count": 118,
   "metadata": {},
   "outputs": [
    {
     "data": {
      "text/html": [
       "<div>\n",
       "<table border=\"1\" class=\"dataframe\">\n",
       "  <thead>\n",
       "    <tr style=\"text-align: right;\">\n",
       "      <th></th>\n",
       "      <th>real</th>\n",
       "      <th>predict</th>\n",
       "      <th>user_id</th>\n",
       "    </tr>\n",
       "  </thead>\n",
       "  <tbody>\n",
       "    <tr>\n",
       "      <th>24</th>\n",
       "      <td>s_293805</td>\n",
       "      <td>345</td>\n",
       "      <td>345</td>\n",
       "    </tr>\n",
       "    <tr>\n",
       "      <th>20</th>\n",
       "      <td>s_293082</td>\n",
       "      <td>322</td>\n",
       "      <td>322</td>\n",
       "    </tr>\n",
       "    <tr>\n",
       "      <th>18</th>\n",
       "      <td>s_293031</td>\n",
       "      <td>311</td>\n",
       "      <td>311</td>\n",
       "    </tr>\n",
       "    <tr>\n",
       "      <th>14</th>\n",
       "      <td>s_2310712</td>\n",
       "      <td>310</td>\n",
       "      <td>310</td>\n",
       "    </tr>\n",
       "    <tr>\n",
       "      <th>25</th>\n",
       "      <td>s_294228</td>\n",
       "      <td>309</td>\n",
       "      <td>309</td>\n",
       "    </tr>\n",
       "    <tr>\n",
       "      <th>27</th>\n",
       "      <td>s_294960</td>\n",
       "      <td>294</td>\n",
       "      <td>294</td>\n",
       "    </tr>\n",
       "    <tr>\n",
       "      <th>17</th>\n",
       "      <td>s_2783591</td>\n",
       "      <td>290</td>\n",
       "      <td>290</td>\n",
       "    </tr>\n",
       "    <tr>\n",
       "      <th>23</th>\n",
       "      <td>s_293785</td>\n",
       "      <td>282</td>\n",
       "      <td>282</td>\n",
       "    </tr>\n",
       "    <tr>\n",
       "      <th>33</th>\n",
       "      <td>s_295610</td>\n",
       "      <td>273</td>\n",
       "      <td>273</td>\n",
       "    </tr>\n",
       "    <tr>\n",
       "      <th>34</th>\n",
       "      <td>s_295706</td>\n",
       "      <td>270</td>\n",
       "      <td>270</td>\n",
       "    </tr>\n",
       "    <tr>\n",
       "      <th>30</th>\n",
       "      <td>s_295308</td>\n",
       "      <td>267</td>\n",
       "      <td>267</td>\n",
       "    </tr>\n",
       "    <tr>\n",
       "      <th>13</th>\n",
       "      <td>s_2303143</td>\n",
       "      <td>265</td>\n",
       "      <td>265</td>\n",
       "    </tr>\n",
       "    <tr>\n",
       "      <th>26</th>\n",
       "      <td>s_294294</td>\n",
       "      <td>258</td>\n",
       "      <td>258</td>\n",
       "    </tr>\n",
       "    <tr>\n",
       "      <th>12</th>\n",
       "      <td>s_2303129</td>\n",
       "      <td>256</td>\n",
       "      <td>256</td>\n",
       "    </tr>\n",
       "    <tr>\n",
       "      <th>29</th>\n",
       "      <td>s_295192</td>\n",
       "      <td>202</td>\n",
       "      <td>202</td>\n",
       "    </tr>\n",
       "    <tr>\n",
       "      <th>22</th>\n",
       "      <td>s_293704</td>\n",
       "      <td>196</td>\n",
       "      <td>196</td>\n",
       "    </tr>\n",
       "    <tr>\n",
       "      <th>88</th>\n",
       "      <td>s_736490</td>\n",
       "      <td>118</td>\n",
       "      <td>118</td>\n",
       "    </tr>\n",
       "    <tr>\n",
       "      <th>21</th>\n",
       "      <td>s_293610</td>\n",
       "      <td>103</td>\n",
       "      <td>103</td>\n",
       "    </tr>\n",
       "    <tr>\n",
       "      <th>71</th>\n",
       "      <td>s_454017</td>\n",
       "      <td>98</td>\n",
       "      <td>98</td>\n",
       "    </tr>\n",
       "    <tr>\n",
       "      <th>85</th>\n",
       "      <td>s_62317</td>\n",
       "      <td>89</td>\n",
       "      <td>89</td>\n",
       "    </tr>\n",
       "    <tr>\n",
       "      <th>84</th>\n",
       "      <td>s_60681</td>\n",
       "      <td>84</td>\n",
       "      <td>84</td>\n",
       "    </tr>\n",
       "    <tr>\n",
       "      <th>55</th>\n",
       "      <td>s_385716</td>\n",
       "      <td>74</td>\n",
       "      <td>74</td>\n",
       "    </tr>\n",
       "    <tr>\n",
       "      <th>39</th>\n",
       "      <td>s_301215</td>\n",
       "      <td>66</td>\n",
       "      <td>66</td>\n",
       "    </tr>\n",
       "    <tr>\n",
       "      <th>72</th>\n",
       "      <td>s_456529</td>\n",
       "      <td>62</td>\n",
       "      <td>62</td>\n",
       "    </tr>\n",
       "    <tr>\n",
       "      <th>97</th>\n",
       "      <td>s_97734</td>\n",
       "      <td>50</td>\n",
       "      <td>50</td>\n",
       "    </tr>\n",
       "    <tr>\n",
       "      <th>87</th>\n",
       "      <td>s_71210</td>\n",
       "      <td>46</td>\n",
       "      <td>46</td>\n",
       "    </tr>\n",
       "    <tr>\n",
       "      <th>57</th>\n",
       "      <td>s_3886681</td>\n",
       "      <td>46</td>\n",
       "      <td>46</td>\n",
       "    </tr>\n",
       "    <tr>\n",
       "      <th>44</th>\n",
       "      <td>s_3587253</td>\n",
       "      <td>43</td>\n",
       "      <td>43</td>\n",
       "    </tr>\n",
       "    <tr>\n",
       "      <th>10</th>\n",
       "      <td>s_20731</td>\n",
       "      <td>40</td>\n",
       "      <td>40</td>\n",
       "    </tr>\n",
       "    <tr>\n",
       "      <th>47</th>\n",
       "      <td>s_3741710</td>\n",
       "      <td>36</td>\n",
       "      <td>36</td>\n",
       "    </tr>\n",
       "    <tr>\n",
       "      <th>...</th>\n",
       "      <td>...</td>\n",
       "      <td>...</td>\n",
       "      <td>...</td>\n",
       "    </tr>\n",
       "    <tr>\n",
       "      <th>53</th>\n",
       "      <td>s_383953</td>\n",
       "      <td>9</td>\n",
       "      <td>9</td>\n",
       "    </tr>\n",
       "    <tr>\n",
       "      <th>82</th>\n",
       "      <td>s_59928</td>\n",
       "      <td>8</td>\n",
       "      <td>8</td>\n",
       "    </tr>\n",
       "    <tr>\n",
       "      <th>65</th>\n",
       "      <td>s_42761</td>\n",
       "      <td>8</td>\n",
       "      <td>8</td>\n",
       "    </tr>\n",
       "    <tr>\n",
       "      <th>58</th>\n",
       "      <td>s_390156</td>\n",
       "      <td>8</td>\n",
       "      <td>8</td>\n",
       "    </tr>\n",
       "    <tr>\n",
       "      <th>19</th>\n",
       "      <td>s_293079</td>\n",
       "      <td>7</td>\n",
       "      <td>7</td>\n",
       "    </tr>\n",
       "    <tr>\n",
       "      <th>32</th>\n",
       "      <td>s_2956027</td>\n",
       "      <td>7</td>\n",
       "      <td>7</td>\n",
       "    </tr>\n",
       "    <tr>\n",
       "      <th>89</th>\n",
       "      <td>s_7452</td>\n",
       "      <td>6</td>\n",
       "      <td>6</td>\n",
       "    </tr>\n",
       "    <tr>\n",
       "      <th>35</th>\n",
       "      <td>s_2959694</td>\n",
       "      <td>6</td>\n",
       "      <td>6</td>\n",
       "    </tr>\n",
       "    <tr>\n",
       "      <th>0</th>\n",
       "      <td>s_1224414</td>\n",
       "      <td>6</td>\n",
       "      <td>6</td>\n",
       "    </tr>\n",
       "    <tr>\n",
       "      <th>63</th>\n",
       "      <td>s_404977</td>\n",
       "      <td>5</td>\n",
       "      <td>5</td>\n",
       "    </tr>\n",
       "    <tr>\n",
       "      <th>41</th>\n",
       "      <td>s_3033946</td>\n",
       "      <td>5</td>\n",
       "      <td>5</td>\n",
       "    </tr>\n",
       "    <tr>\n",
       "      <th>59</th>\n",
       "      <td>s_3914828</td>\n",
       "      <td>5</td>\n",
       "      <td>5</td>\n",
       "    </tr>\n",
       "    <tr>\n",
       "      <th>6</th>\n",
       "      <td>s_182683</td>\n",
       "      <td>5</td>\n",
       "      <td>5</td>\n",
       "    </tr>\n",
       "    <tr>\n",
       "      <th>86</th>\n",
       "      <td>s_63306</td>\n",
       "      <td>4</td>\n",
       "      <td>4</td>\n",
       "    </tr>\n",
       "    <tr>\n",
       "      <th>2</th>\n",
       "      <td>s_136016</td>\n",
       "      <td>4</td>\n",
       "      <td>4</td>\n",
       "    </tr>\n",
       "    <tr>\n",
       "      <th>75</th>\n",
       "      <td>s_474939</td>\n",
       "      <td>4</td>\n",
       "      <td>4</td>\n",
       "    </tr>\n",
       "    <tr>\n",
       "      <th>78</th>\n",
       "      <td>s_524841</td>\n",
       "      <td>4</td>\n",
       "      <td>4</td>\n",
       "    </tr>\n",
       "    <tr>\n",
       "      <th>45</th>\n",
       "      <td>s_3637</td>\n",
       "      <td>3</td>\n",
       "      <td>3</td>\n",
       "    </tr>\n",
       "    <tr>\n",
       "      <th>77</th>\n",
       "      <td>s_5014</td>\n",
       "      <td>3</td>\n",
       "      <td>3</td>\n",
       "    </tr>\n",
       "    <tr>\n",
       "      <th>31</th>\n",
       "      <td>s_2953551</td>\n",
       "      <td>3</td>\n",
       "      <td>3</td>\n",
       "    </tr>\n",
       "    <tr>\n",
       "      <th>76</th>\n",
       "      <td>s_50078</td>\n",
       "      <td>3</td>\n",
       "      <td>3</td>\n",
       "    </tr>\n",
       "    <tr>\n",
       "      <th>40</th>\n",
       "      <td>s_3032986</td>\n",
       "      <td>3</td>\n",
       "      <td>3</td>\n",
       "    </tr>\n",
       "    <tr>\n",
       "      <th>42</th>\n",
       "      <td>s_306243</td>\n",
       "      <td>3</td>\n",
       "      <td>3</td>\n",
       "    </tr>\n",
       "    <tr>\n",
       "      <th>74</th>\n",
       "      <td>s_46295</td>\n",
       "      <td>2</td>\n",
       "      <td>2</td>\n",
       "    </tr>\n",
       "    <tr>\n",
       "      <th>9</th>\n",
       "      <td>s_193954</td>\n",
       "      <td>2</td>\n",
       "      <td>2</td>\n",
       "    </tr>\n",
       "    <tr>\n",
       "      <th>7</th>\n",
       "      <td>s_190419</td>\n",
       "      <td>2</td>\n",
       "      <td>2</td>\n",
       "    </tr>\n",
       "    <tr>\n",
       "      <th>96</th>\n",
       "      <td>s_938918</td>\n",
       "      <td>2</td>\n",
       "      <td>2</td>\n",
       "    </tr>\n",
       "    <tr>\n",
       "      <th>46</th>\n",
       "      <td>s_3741135</td>\n",
       "      <td>1</td>\n",
       "      <td>1</td>\n",
       "    </tr>\n",
       "    <tr>\n",
       "      <th>8</th>\n",
       "      <td>s_192952</td>\n",
       "      <td>1</td>\n",
       "      <td>1</td>\n",
       "    </tr>\n",
       "    <tr>\n",
       "      <th>67</th>\n",
       "      <td>s_4371</td>\n",
       "      <td>1</td>\n",
       "      <td>1</td>\n",
       "    </tr>\n",
       "  </tbody>\n",
       "</table>\n",
       "<p>98 rows × 3 columns</p>\n",
       "</div>"
      ],
      "text/plain": [
       "         real  predict  user_id\n",
       "24   s_293805      345      345\n",
       "20   s_293082      322      322\n",
       "18   s_293031      311      311\n",
       "14  s_2310712      310      310\n",
       "25   s_294228      309      309\n",
       "27   s_294960      294      294\n",
       "17  s_2783591      290      290\n",
       "23   s_293785      282      282\n",
       "33   s_295610      273      273\n",
       "34   s_295706      270      270\n",
       "30   s_295308      267      267\n",
       "13  s_2303143      265      265\n",
       "26   s_294294      258      258\n",
       "12  s_2303129      256      256\n",
       "29   s_295192      202      202\n",
       "22   s_293704      196      196\n",
       "88   s_736490      118      118\n",
       "21   s_293610      103      103\n",
       "71   s_454017       98       98\n",
       "85    s_62317       89       89\n",
       "84    s_60681       84       84\n",
       "55   s_385716       74       74\n",
       "39   s_301215       66       66\n",
       "72   s_456529       62       62\n",
       "97    s_97734       50       50\n",
       "87    s_71210       46       46\n",
       "57  s_3886681       46       46\n",
       "44  s_3587253       43       43\n",
       "10    s_20731       40       40\n",
       "47  s_3741710       36       36\n",
       "..        ...      ...      ...\n",
       "53   s_383953        9        9\n",
       "82    s_59928        8        8\n",
       "65    s_42761        8        8\n",
       "58   s_390156        8        8\n",
       "19   s_293079        7        7\n",
       "32  s_2956027        7        7\n",
       "89     s_7452        6        6\n",
       "35  s_2959694        6        6\n",
       "0   s_1224414        6        6\n",
       "63   s_404977        5        5\n",
       "41  s_3033946        5        5\n",
       "59  s_3914828        5        5\n",
       "6    s_182683        5        5\n",
       "86    s_63306        4        4\n",
       "2    s_136016        4        4\n",
       "75   s_474939        4        4\n",
       "78   s_524841        4        4\n",
       "45     s_3637        3        3\n",
       "77     s_5014        3        3\n",
       "31  s_2953551        3        3\n",
       "76    s_50078        3        3\n",
       "40  s_3032986        3        3\n",
       "42   s_306243        3        3\n",
       "74    s_46295        2        2\n",
       "9    s_193954        2        2\n",
       "7    s_190419        2        2\n",
       "96   s_938918        2        2\n",
       "46  s_3741135        1        1\n",
       "8    s_192952        1        1\n",
       "67     s_4371        1        1\n",
       "\n",
       "[98 rows x 3 columns]"
      ]
     },
     "execution_count": 118,
     "metadata": {},
     "output_type": "execute_result"
    }
   ],
   "source": [
    "error.groupby(\"real\").count().reset_index().sort_values(by=\"predict\",ascending=False)"
   ]
  },
  {
   "cell_type": "code",
   "execution_count": 120,
   "metadata": {},
   "outputs": [
    {
     "data": {
      "text/plain": [
       "(1376, 3)"
      ]
     },
     "execution_count": 120,
     "metadata": {},
     "output_type": "execute_result"
    }
   ],
   "source": [
    "pre[pre.real==\"s_293805\"]"
   ]
  },
  {
   "cell_type": "code",
   "execution_count": 124,
   "metadata": {},
   "outputs": [
    {
     "data": {
      "text/plain": [
       "(2610,)"
      ]
     },
     "execution_count": 124,
     "metadata": {},
     "output_type": "execute_result"
    }
   ],
   "source": [
    "train_use_wifi[train_use_wifi!=\"\"].shape"
   ]
  },
  {
   "cell_type": "code",
   "execution_count": 125,
   "metadata": {},
   "outputs": [
    {
     "data": {
      "text/plain": [
       "(26355,)"
      ]
     },
     "execution_count": 125,
     "metadata": {},
     "output_type": "execute_result"
    }
   ],
   "source": [
    "train_use_wifi.shape"
   ]
  },
  {
   "cell_type": "code",
   "execution_count": 154,
   "metadata": {},
   "outputs": [],
   "source": []
  },
  {
   "cell_type": "code",
   "execution_count": 215,
   "metadata": {},
   "outputs": [
    {
     "data": {
      "text/plain": [
       "(26355, 99)"
      ]
     },
     "execution_count": 215,
     "metadata": {},
     "output_type": "execute_result"
    }
   ],
   "source": [
    "d = rank_one(train,\"shop_id\")\n",
    "verctors = []\n",
    "for _s,_index in d.items():\n",
    "    _shop = shop[shop.shop_id==\"s_301215\"][[\"shop_longitude\",\"shop_latitude\"]].values\n",
    "    _shop = np.tile(_shop,(train_lonlats.shape[0],1))\n",
    "    verctors.append(haversine(train_lonlats[:,0],train_lonlats[:,1],_shop[:,0],_shop[:,1]).reshape((-1,1)))\n",
    "distance_matrix = np.concatenate(verctors,axis=1).shape"
   ]
  },
  {
   "cell_type": "code",
   "execution_count": 213,
   "metadata": {},
   "outputs": [
    {
     "data": {
      "text/plain": [
       "(26355, 99)"
      ]
     },
     "execution_count": 213,
     "metadata": {},
     "output_type": "execute_result"
    }
   ],
   "source": []
  },
  {
   "cell_type": "code",
   "execution_count": 191,
   "metadata": {},
   "outputs": [],
   "source": []
  },
  {
   "cell_type": "code",
   "execution_count": 202,
   "metadata": {},
   "outputs": [
    {
     "data": {
      "text/plain": [
       "array([[ 0.02580212],\n",
       "       [ 0.03927833],\n",
       "       [ 0.04524253],\n",
       "       ..., \n",
       "       [ 0.17089631],\n",
       "       [ 0.19369635],\n",
       "       [ 0.20150043]])"
      ]
     },
     "execution_count": 202,
     "metadata": {},
     "output_type": "execute_result"
    }
   ],
   "source": []
  },
  {
   "cell_type": "code",
   "execution_count": null,
   "metadata": {},
   "outputs": [],
   "source": []
  }
 ],
 "metadata": {
  "kernelspec": {
   "display_name": "Python 2",
   "language": "python",
   "name": "python2"
  },
  "language_info": {
   "codemirror_mode": {
    "name": "ipython",
    "version": 2
   },
   "file_extension": ".py",
   "mimetype": "text/x-python",
   "name": "python",
   "nbconvert_exporter": "python",
   "pygments_lexer": "ipython2",
   "version": "2.7.5"
  }
 },
 "nbformat": 4,
 "nbformat_minor": 2
}
