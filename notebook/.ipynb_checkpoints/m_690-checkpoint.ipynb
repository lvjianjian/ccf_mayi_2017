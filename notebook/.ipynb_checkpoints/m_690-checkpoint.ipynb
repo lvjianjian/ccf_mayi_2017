{
 "cells": [
  {
   "cell_type": "code",
   "execution_count": 1,
   "metadata": {},
   "outputs": [],
   "source": [
    "from util import *\n",
    "import matplotlib.pyplot as plt\n",
    "import seaborn as ses"
   ]
  },
  {
   "cell_type": "code",
   "execution_count": 2,
   "metadata": {},
   "outputs": [],
   "source": [
    "mall_id = \"m_690\"\n",
    "train = load_train()\n",
    "train = train[train.mall_id==mall_id]\n",
    "test = load_testA()\n",
    "test = test[test.mall_id == mall_id]\n",
    "shop_info = load_shop_info()\n",
    "shop_info = shop_info[shop_info.mall_id == mall_id]"
   ]
  },
  {
   "cell_type": "code",
   "execution_count": 4,
   "metadata": {},
   "outputs": [
    {
     "name": "stderr",
     "output_type": "stream",
     "text": [
      "util.py:586: SettingWithCopyWarning: \n",
      "A value is trying to be set on a copy of a slice from a DataFrame.\n",
      "Try using .loc[row_indexer,col_indexer] = value instead\n",
      "\n",
      "See the caveats in the documentation: http://pandas.pydata.org/pandas-docs/stable/indexing.html#indexing-view-versus-copy\n",
      "  train[\"i_loc\"] = range(train.shape[0])\n"
     ]
    }
   ],
   "source": [
    "_train_index, _valid_index = get_last_one_week_index(train)"
   ]
  },
  {
   "cell_type": "code",
   "execution_count": 12,
   "metadata": {},
   "outputs": [
    {
     "data": {
      "text/html": [
       "<div>\n",
       "<table border=\"1\" class=\"dataframe\">\n",
       "  <thead>\n",
       "    <tr style=\"text-align: right;\">\n",
       "      <th></th>\n",
       "      <th>shop_id</th>\n",
       "      <th>user_id</th>\n",
       "    </tr>\n",
       "  </thead>\n",
       "  <tbody>\n",
       "    <tr>\n",
       "      <th>86</th>\n",
       "      <td>s_407043</td>\n",
       "      <td>1</td>\n",
       "    </tr>\n",
       "    <tr>\n",
       "      <th>64</th>\n",
       "      <td>s_3806401</td>\n",
       "      <td>1</td>\n",
       "    </tr>\n",
       "    <tr>\n",
       "      <th>132</th>\n",
       "      <td>s_878825</td>\n",
       "      <td>2</td>\n",
       "    </tr>\n",
       "    <tr>\n",
       "      <th>84</th>\n",
       "      <td>s_4044487</td>\n",
       "      <td>3</td>\n",
       "    </tr>\n",
       "    <tr>\n",
       "      <th>48</th>\n",
       "      <td>s_3209667</td>\n",
       "      <td>5</td>\n",
       "    </tr>\n",
       "    <tr>\n",
       "      <th>37</th>\n",
       "      <td>s_2628604</td>\n",
       "      <td>6</td>\n",
       "    </tr>\n",
       "    <tr>\n",
       "      <th>47</th>\n",
       "      <td>s_3183871</td>\n",
       "      <td>8</td>\n",
       "    </tr>\n",
       "    <tr>\n",
       "      <th>66</th>\n",
       "      <td>s_3830245</td>\n",
       "      <td>8</td>\n",
       "    </tr>\n",
       "    <tr>\n",
       "      <th>82</th>\n",
       "      <td>s_4000963</td>\n",
       "      <td>13</td>\n",
       "    </tr>\n",
       "    <tr>\n",
       "      <th>51</th>\n",
       "      <td>s_3305181</td>\n",
       "      <td>13</td>\n",
       "    </tr>\n",
       "  </tbody>\n",
       "</table>\n",
       "</div>"
      ],
      "text/plain": [
       "       shop_id  user_id\n",
       "86    s_407043        1\n",
       "64   s_3806401        1\n",
       "132   s_878825        2\n",
       "84   s_4044487        3\n",
       "48   s_3209667        5\n",
       "37   s_2628604        6\n",
       "47   s_3183871        8\n",
       "66   s_3830245        8\n",
       "82   s_4000963       13\n",
       "51   s_3305181       13"
      ]
     },
     "execution_count": 12,
     "metadata": {},
     "output_type": "execute_result"
    }
   ],
   "source": [
    "train.groupby(\"shop_id\")[\"user_id\"].count().reset_index().sort_values(by=\"user_id\")[:10]"
   ]
  },
  {
   "cell_type": "code",
   "execution_count": 17,
   "metadata": {},
   "outputs": [
    {
     "data": {
      "text/html": [
       "<div>\n",
       "<table border=\"1\" class=\"dataframe\">\n",
       "  <thead>\n",
       "    <tr style=\"text-align: right;\">\n",
       "      <th></th>\n",
       "      <th>user_id</th>\n",
       "      <th>shop_id</th>\n",
       "      <th>time_stamp</th>\n",
       "      <th>longitude</th>\n",
       "      <th>latitude</th>\n",
       "      <th>wifi_infos</th>\n",
       "      <th>category_id</th>\n",
       "      <th>shop_longitude</th>\n",
       "      <th>shop_latitude</th>\n",
       "      <th>price</th>\n",
       "      <th>mall_id</th>\n",
       "      <th>i_loc</th>\n",
       "    </tr>\n",
       "  </thead>\n",
       "  <tbody>\n",
       "    <tr>\n",
       "      <th>514187</th>\n",
       "      <td>u_14081500</td>\n",
       "      <td>s_878825</td>\n",
       "      <td>2017-08-08 22:40</td>\n",
       "      <td>122.307557</td>\n",
       "      <td>32.023163</td>\n",
       "      <td>b_31247838|-79|false;b_14439290|-88|false;b_32...</td>\n",
       "      <td>c_38</td>\n",
       "      <td>122.34689</td>\n",
       "      <td>31.834329</td>\n",
       "      <td>51</td>\n",
       "      <td>m_690</td>\n",
       "      <td>12544</td>\n",
       "    </tr>\n",
       "    <tr>\n",
       "      <th>872209</th>\n",
       "      <td>u_52551894</td>\n",
       "      <td>s_878825</td>\n",
       "      <td>2017-08-08 22:40</td>\n",
       "      <td>122.286859</td>\n",
       "      <td>31.738316</td>\n",
       "      <td>b_24745167|-75|false;b_50409863|-91|false;b_23...</td>\n",
       "      <td>c_38</td>\n",
       "      <td>122.34689</td>\n",
       "      <td>31.834329</td>\n",
       "      <td>51</td>\n",
       "      <td>m_690</td>\n",
       "      <td>20696</td>\n",
       "    </tr>\n",
       "  </tbody>\n",
       "</table>\n",
       "</div>"
      ],
      "text/plain": [
       "           user_id   shop_id        time_stamp   longitude   latitude  \\\n",
       "514187  u_14081500  s_878825  2017-08-08 22:40  122.307557  32.023163   \n",
       "872209  u_52551894  s_878825  2017-08-08 22:40  122.286859  31.738316   \n",
       "\n",
       "                                               wifi_infos category_id  \\\n",
       "514187  b_31247838|-79|false;b_14439290|-88|false;b_32...        c_38   \n",
       "872209  b_24745167|-75|false;b_50409863|-91|false;b_23...        c_38   \n",
       "\n",
       "        shop_longitude  shop_latitude  price mall_id  i_loc  \n",
       "514187       122.34689      31.834329     51   m_690  12544  \n",
       "872209       122.34689      31.834329     51   m_690  20696  "
      ]
     },
     "execution_count": 17,
     "metadata": {},
     "output_type": "execute_result"
    }
   ],
   "source": [
    "train[train.shop_id == \"s_878825\"]"
   ]
  },
  {
   "cell_type": "code",
   "execution_count": null,
   "metadata": {},
   "outputs": [],
   "source": []
  }
 ],
 "metadata": {
  "kernelspec": {
   "display_name": "Python 2",
   "language": "python",
   "name": "python2"
  },
  "language_info": {
   "codemirror_mode": {
    "name": "ipython",
    "version": 2
   },
   "file_extension": ".py",
   "mimetype": "text/x-python",
   "name": "python",
   "nbconvert_exporter": "python",
   "pygments_lexer": "ipython2",
   "version": "2.7.5"
  }
 },
 "nbformat": 4,
 "nbformat_minor": 2
}
