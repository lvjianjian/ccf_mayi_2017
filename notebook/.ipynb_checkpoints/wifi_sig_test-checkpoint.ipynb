{
 "cells": [
  {
   "cell_type": "code",
   "execution_count": 1,
   "metadata": {},
   "outputs": [
    {
     "name": "stderr",
     "output_type": "stream",
     "text": [
      "/usr/lib64/python2.7/site-packages/sklearn/cross_validation.py:41: DeprecationWarning: This module was deprecated in version 0.18 in favor of the model_selection module into which all the refactored classes and functions are moved. Also note that the interface of the new CV iterators are different from that of this module. This module will be removed in 0.20.\n",
      "  \"This module will be removed in 0.20.\", DeprecationWarning)\n"
     ]
    }
   ],
   "source": [
    "from util import *\n",
    "from sklearn.preprocessing import LabelEncoder\n",
    "from sklearn.model_selection import  train_test_split\n",
    "import xgboost as xgb"
   ]
  },
  {
   "cell_type": "code",
   "execution_count": 2,
   "metadata": {},
   "outputs": [],
   "source": [
    "train_all = load_train()\n",
    "test_all = load_testA()\n",
    "shop_info = load_shop_info()"
   ]
  },
  {
   "cell_type": "code",
   "execution_count": 3,
   "metadata": {},
   "outputs": [],
   "source": [
    "mall_id = \"m_690\"\n",
    "df, train_cache, test_cache = get_wifi_cache(mall_id)\n",
    "train_index = train_cache[0]\n",
    "train_use_wifi = train_cache[1]\n",
    "train_matrix = train_cache[2]\n",
    "train = train_all[train_all.mall_id == mall_id]\n",
    "shops = shop_info[shop_info.mall_id==mall_id].shop_id.unique()\n",
    "label_encoder =  LabelEncoder().fit(shops)\n",
    "y = label_encoder.transform(train.shop_id)\n",
    "train_x, test_x,train_y,test_y  = train_test_split(train_matrix,y)"
   ]
  },
  {
   "cell_type": "code",
   "execution_count": 5,
   "metadata": {},
   "outputs": [],
   "source": [
    "train = xgb.DMatrix(train_x,label=train_y)\n",
    "test = xgb.DMatrix(test_x,label=test_y)\n",
    "evals = [(train,\"train\"),(test,\"test\")]\n",
    "num_class = len(shops)\n",
    "# 模型参数\n",
    "objective = \"multi:softmax\"\n",
    "eval_metric = \"merror\"\n",
    "eta = 0.02\n",
    "max_depth = 10\n",
    "subsample = 0.8\n",
    "colsample_bytree = 0.8\n",
    "min_child_weight = 5\n",
    "gamma = 1\n",
    "alpha = 0\n",
    "_lambda = 0\n",
    "n_round = 100\n",
    "early_stop_rounds = 3"
   ]
  },
  {
   "cell_type": "code",
   "execution_count": null,
   "metadata": {},
   "outputs": [],
   "source": [
    "bst = xgb.train({\n",
    "        \"objective\": objective,\n",
    "        \"eval_metric\": eval_metric,\n",
    "        \"eta\": eta,\n",
    "        \"max_depth\": max_depth,\n",
    "        \"subsample\": subsample,\n",
    "        \"colsample_bytree\": colsample_bytree,\n",
    "        \"min_child_weight\": min_child_weight,\n",
    "        \"gamma\": gamma,\n",
    "        \"alpha\": alpha,\n",
    "        \"lambda\": _lambda,\n",
    "        \"num_class\": num_class,\n",
    "        \"silent\": 1,\n",
    "    },\n",
    "            train,\n",
    "            n_round,\n",
    "            evals=evals,\n",
    "            early_stopping_rounds=early_stop_rounds)"
   ]
  },
  {
   "cell_type": "code",
   "execution_count": null,
   "metadata": {},
   "outputs": [],
   "source": []
  }
 ],
 "metadata": {
  "kernelspec": {
   "display_name": "Python 2",
   "language": "python",
   "name": "python2"
  },
  "language_info": {
   "codemirror_mode": {
    "name": "ipython",
    "version": 2
   },
   "file_extension": ".py",
   "mimetype": "text/x-python",
   "name": "python",
   "nbconvert_exporter": "python",
   "pygments_lexer": "ipython2",
   "version": "2.7.5"
  }
 },
 "nbformat": 4,
 "nbformat_minor": 2
}
