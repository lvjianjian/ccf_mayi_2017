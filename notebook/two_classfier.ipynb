{
 "cells": [
  {
   "cell_type": "code",
   "execution_count": 1,
   "metadata": {},
   "outputs": [],
   "source": [
    "from util import *\n",
    "from sklearn.preprocessing import LabelEncoder,LabelBinarizer\n",
    "from sklearn.ensemble import RandomForestClassifier, ExtraTreesClassifier\n",
    "from sklearn.svm import SVC\n",
    "from mlxtend.classifier import StackingCVClassifier,StackingClassifier\n",
    "from sklearn.multiclass import  OneVsOneClassifier,OneVsRestClassifier\n",
    "from sklearn.model_selection import train_test_split, KFold, StratifiedKFold\n",
    "from sklearn.linear_model import SGDClassifier\n",
    "from sklearn.linear_model import LogisticRegression\n",
    "from sklearn.ensemble import GradientBoostingClassifier,AdaBoostClassifier\n",
    "from sklearn.preprocessing import StandardScaler,Normalizer\n",
    "from sklearn.ensemble import VotingClassifier\n",
    "pd.set_option('display.max_colwidth',1000)"
   ]
  },
  {
   "cell_type": "code",
   "execution_count": 2,
   "metadata": {},
   "outputs": [],
   "source": [
    "train_all = load_train()\n",
    "test_all = load_testA()\n",
    "preprocess_basic_time(train_all)\n",
    "preprocess_basic_wifi(train_all)\n",
    "shop_info = load_shop_info()"
   ]
  },
  {
   "cell_type": "code",
   "execution_count": 3,
   "metadata": {},
   "outputs": [
    {
     "name": "stderr",
     "output_type": "stream",
     "text": [
      "util.py:752: SettingWithCopyWarning: \n",
      "A value is trying to be set on a copy of a slice from a DataFrame.\n",
      "Try using .loc[row_indexer,col_indexer] = value instead\n",
      "\n",
      "See the caveats in the documentation: http://pandas.pydata.org/pandas-docs/stable/indexing.html#indexing-view-versus-copy\n",
      "  train[\"i_loc\"] = range(train.shape[0])\n"
     ]
    }
   ],
   "source": [
    "mall_id = \"m_4422\" # 6587 ,9 21 36 72 77 86 \n",
    "train = train_all[train_all.mall_id == mall_id]\n",
    "# labeltrain_times = train[[\"longitude\",\"latitude\",\"is_weekend\"]].values\n",
    "valid_times = valid[[\"longitude\",\"latitude\",\"is_weekend\"]].values\n",
    "y = train.shop_id.values\n",
    "le = LabelEncoder().fit(y)\n",
    "y = le.transform(y)\n",
    "#split\n",
    "_train_index, _valid_index = get_last_one_week_index(train)\n",
    "valid = train.iloc[_valid_index]\n",
    "train = train.iloc[_train_index]\n",
    "#wifi info\n",
    "df, (train_index, train_use_wifi, train_matrix), (test_index, test_use_wifi, test_matrix) = get_wifi_cache2(mall_id)\n",
    "train_wifi_all_x = train_matrix[_train_index]\n",
    "valid_wifi_all_x = train_matrix[_valid_index]\n",
    "valid_y = y[_valid_index]\n",
    "train_y = y[_train_index]\n",
    "train_lonlats = train[[\"longitude\",\"latitude\"]].values\n",
    "valid_lonlats = valid[[\"longitude\",\"latitude\"]].values\n",
    "train_wh = train[[\"weekday\",\"hour\"]].values\n",
    "valid_wh = valid[[\"weekday\",\"hour\"]].values\n",
    "train_w = train[[\"weekday\"]].values\n",
    "valid_w = valid[[\"weekday\"]].values\n",
    "train_h = train[[\"hour\"]].values\n",
    "valid_h = valid[[\"hour\"]].values\n",
    "\n",
    "train[\"dayofyear\"] = train.dt.dt.dayofyear\n",
    "valid[\"dayofyear\"] = valid.dt.dt.dayofyear\n",
    "\n",
    "indexs = choose_strong_wifi_index(-90,6,train_wifi_all_x)\n",
    "train_x = np.concatenate([train_wifi_all_x[:,indexs],train_lonlats,train_wh],axis=1)\n",
    "valid_x = np.concatenate([valid_wifi_all_x[:,indexs],valid_lonlats,valid_wh],axis=1)\n",
    "lb = LabelBinarizer().fit(y)\n",
    "train_b_y = lb.transform(train_y)\n",
    "valid_b_y = lb.transform(valid_y)\n",
    "\n",
    "train_times = train[[\"longitude\",\"latitude\",\"is_weekend\"]].values\n",
    "valid_times = valid[[\"longitude\",\"latitude\",\"is_weekend\"]].values"
   ]
  },
  {
   "cell_type": "code",
   "execution_count": 6,
   "metadata": {},
   "outputs": [
    {
     "data": {
      "text/plain": [
       "0.7754229410671128"
      ]
     },
     "execution_count": 6,
     "metadata": {},
     "output_type": "execute_result"
    }
   ],
   "source": [
    "#  多分类\n",
    "rf_all = RandomForestClassifier(n_estimators=500,n_jobs=-1,class_weight=\"balanced\", random_state=2017)\n",
    "_train_all_x = np.concatenate([train_wifi_all_x[:, indexs], train_lonlats, train_times],axis=1)\n",
    "valid_all_x = np.concatenate([valid_wifi_all_x[:, indexs], valid_lonlats, valid_times],axis=1)\n",
    "_train_y = train_y.copy()\n",
    "rf_all.fit(_train_all_x,_train_y)\n",
    "rf_all_pba = rf_all.predict_proba(valid_all_x)\n",
    "acc(rf_all.predict(valid_all_x),valid_y)"
   ]
  },
  {
   "cell_type": "code",
   "execution_count": 28,
   "metadata": {},
   "outputs": [],
   "source": [
    "temp = train[[\"shop_id\"]].reset_index()\n",
    "temp[\"label\"] = 1\n",
    "temp = temp.pivot_table(index=\"index\",columns=\"shop_id\",fill_value=0).stack().reset_index()"
   ]
  },
  {
   "cell_type": "code",
   "execution_count": 61,
   "metadata": {},
   "outputs": [],
   "source": [
    "t = train.reset_index().rename(columns={\"shop_id\":\"real_shop_id\"})\n",
    "t = pd.merge(t,temp,on=\"index\")"
   ]
  },
  {
   "cell_type": "code",
   "execution_count": 169,
   "metadata": {},
   "outputs": [],
   "source": [
    "v = valid.reset_index().rename(columns={\"shop_id\":\"real_shop_id\"})"
   ]
  },
  {
   "cell_type": "code",
   "execution_count": 172,
   "metadata": {},
   "outputs": [],
   "source": [
    "v_temp = v[[\"index\"]]"
   ]
  },
  {
   "cell_type": "code",
   "execution_count": 184,
   "metadata": {},
   "outputs": [
    {
     "name": "stderr",
     "output_type": "stream",
     "text": [
      "/usr/lib/python2.7/site-packages/ipykernel_launcher.py:1: SettingWithCopyWarning: \n",
      "A value is trying to be set on a copy of a slice from a DataFrame.\n",
      "Try using .loc[row_indexer,col_indexer] = value instead\n",
      "\n",
      "See the caveats in the documentation: http://pandas.pydata.org/pandas-docs/stable/indexing.html#indexing-view-versus-copy\n",
      "  \"\"\"Entry point for launching an IPython kernel.\n",
      "/usr/lib/python2.7/site-packages/ipykernel_launcher.py:4: SettingWithCopyWarning: \n",
      "A value is trying to be set on a copy of a slice from a DataFrame.\n",
      "Try using .loc[row_indexer,col_indexer] = value instead\n",
      "\n",
      "See the caveats in the documentation: http://pandas.pydata.org/pandas-docs/stable/indexing.html#indexing-view-versus-copy\n",
      "  after removing the cwd from sys.path.\n"
     ]
    }
   ],
   "source": [
    "v_temp[\"shop_id\"] = le.classes_[0]\n",
    "for _i, _shopid in enumerate(le.classes_):\n",
    "    v_temp.loc[_i,\"shop_id\"] = _shopid\n",
    "v_temp[\"label\"] = 0"
   ]
  },
  {
   "cell_type": "code",
   "execution_count": 190,
   "metadata": {},
   "outputs": [],
   "source": [
    "v_temp = v_temp.pivot_table(index =\"index\",columns=\"shop_id\",fill_value=0).stack().reset_index()\n",
    "v = pd.merge(v,v_temp,on=\"index\")"
   ]
  },
  {
   "cell_type": "code",
   "execution_count": 277,
   "metadata": {},
   "outputs": [],
   "source": [
    "top = 300\n",
    "wifis_top = {}\n",
    "for _shop_id in le.classes_:\n",
    "    wifis =  get_sorted_wifi([train[train.shop_id==_shop_id]])\n",
    "    wifis = wifis[:top]\n",
    "    wifis_top[_shop_id] = wifis"
   ]
  },
  {
   "cell_type": "code",
   "execution_count": 140,
   "metadata": {
    "scrolled": true
   },
   "outputs": [],
   "source": [
    "def wifi_feature(x, wifis_top, top_num):\n",
    "    wifi_infos = x[0]\n",
    "    shop_id = x[1]\n",
    "    wifi_top = wifis_top[shop_id]\n",
    "    wifi_top = [_wn for _wn,_search_num in wifi_top]\n",
    "    wifi_top = zip(wifi_top,range(len(wifi_top)))\n",
    "    wifi_top = dict(wifi_top)\n",
    "    \n",
    "    r = np.zeros((top_num,))\n",
    "    r[:] = -115\n",
    "    \n",
    "    for _wn,_sig in wifi_infos[1]:\n",
    "        if _wn in wifi_top:\n",
    "            r[wifi_top[_wn]] = _sig\n",
    "            \n",
    "    for _wn,_sig in wifi_infos[2]:\n",
    "        if _wn in wifi_top:\n",
    "            r[wifi_top[_wn]] = _sig\n",
    "            \n",
    "    return r\n",
    "\n",
    "# temp.apply(lambda x: wifi_feature(x,wifis_top,top),axis=1)"
   ]
  },
  {
   "cell_type": "code",
   "execution_count": 211,
   "metadata": {},
   "outputs": [],
   "source": [
    "import time\n",
    "def performance(f):\n",
    "    def fn(*args, **kw):\n",
    "        t_start = time.time()\n",
    "        r = f(*args, **kw)\n",
    "        t_end = time.time()\n",
    "        print (\"call %s() take %fs\" % (f.__name__, (t_end - t_start)))\n",
    "        return r\n",
    "    return fn\n",
    "\n",
    "@performance\n",
    "def get_corr_wifi_info(data,wifis_top,top):\n",
    "    values = map(lambda x:wifi_feature(x,wifis_top,top), data[[\"basic_wifi_info\",\"shop_id\"]].values)\n",
    "    values = np.vstack(values)\n",
    "    return values\n",
    "\n",
    "@performance\n",
    "def estimator_fit(estimator, f,y):\n",
    "    estimator.fit(f,y)\n",
    "    return estimator"
   ]
  },
  {
   "cell_type": "code",
   "execution_count": 278,
   "metadata": {},
   "outputs": [
    {
     "name": "stdout",
     "output_type": "stream",
     "text": [
      "call get_corr_wifi_info() take 74.352165s\n",
      "call get_corr_wifi_info() take 25.435787s\n",
      "call estimator_fit() take 2610.424277s\n"
     ]
    },
    {
     "data": {
      "text/plain": [
       "0.7084960029745306"
      ]
     },
     "execution_count": 278,
     "metadata": {},
     "output_type": "execute_result"
    }
   ],
   "source": [
    "train_two_x = get_corr_wifi_info(data=t,wifis_top=wifis_top,top=top)\n",
    "train_shopid_x = le.transform(t[\"shop_id\"]).reshape(-1,1)\n",
    "train_two_wh = np.concatenate([t.dt.dt.weekday.values.reshape(-1,1),t.dt.dt.hour.values.reshape(-1,1)],axis=1)\n",
    "train_two_lonlat = np.concatenate([t.longitude.values.reshape(-1,1),t.latitude.values.reshape(-1,1)],axis=1)\n",
    "train_two_x = np.concatenate([train_two_x,\n",
    "                              train_two_wh,\n",
    "                              train_two_lonlat,\n",
    "                              train_shopid_x],axis=1)\n",
    "train_two_y = t[\"label\"].values\n",
    "valid_two_x = get_corr_wifi_info(v,wifis_top,top)\n",
    "valid_shopid_x = le.transform(v[\"shop_id\"].values).reshape(-1,1)\n",
    "valid_two_wh = np.concatenate([v.dt.dt.weekday.values.reshape(-1,1),v.dt.dt.hour.values.reshape(-1,1)],axis=1)\n",
    "valid_two_lonlat = np.concatenate([v.longitude.values.reshape(-1,1),v.latitude.values.reshape(-1,1)],axis=1)\n",
    "valid_two_x = np.concatenate([valid_two_x,\n",
    "                              valid_two_wh,\n",
    "                              valid_two_lonlat,\n",
    "                              valid_shopid_x],axis=1)\n",
    "two_rf = RandomForestClassifier(n_jobs=-1,n_estimators=1222,class_weight=\"balanced\")\n",
    "\n",
    "estimator_fit(two_rf,train_two_x,train_two_y)\n",
    "\n",
    "p = two_rf.predict_proba(valid_two_x)\n",
    "v[\"label\"] = p[:,1]\n",
    "predict = v[[\"index\",\"shop_id\",\"label\"]].pivot_table(index=\"index\",columns=\"shop_id\")\n",
    "shopids = np.asarray(predict.columns.levels[1])\n",
    "predicts = shopids.take(map(lambda x: np.argmax(x),predict.values))\n",
    "acc(predicts,valid.shop_id.values)"
   ]
  }
 ],
 "metadata": {
  "kernelspec": {
   "display_name": "Python 2",
   "language": "python",
   "name": "python2"
  },
  "language_info": {
   "codemirror_mode": {
    "name": "ipython",
    "version": 2
   },
   "file_extension": ".py",
   "mimetype": "text/x-python",
   "name": "python",
   "nbconvert_exporter": "python",
   "pygments_lexer": "ipython2",
   "version": "2.7.5"
  }
 },
 "nbformat": 4,
 "nbformat_minor": 2
}
